{
 "cells": [
  {
   "cell_type": "code",
   "execution_count": 1,
   "metadata": {},
   "outputs": [],
   "source": [
    "import importlib\n",
    "\n",
    "from amlta.eval.question_generation import process_flows\n",
    "\n",
    "process_flows = importlib.reload(process_flows)"
   ]
  },
  {
   "cell_type": "code",
   "execution_count": 10,
   "metadata": {},
   "outputs": [],
   "source": [
    "batch_in_path = process_flows.prepare_batch(n=250, model=\"gpt-4o-mini\")"
   ]
  },
  {
   "cell_type": "code",
   "execution_count": 11,
   "metadata": {},
   "outputs": [],
   "source": [
    "batch = process_flows.send_batch(batch_in_path)"
   ]
  },
  {
   "cell_type": "code",
   "execution_count": 12,
   "metadata": {},
   "outputs": [
    {
     "data": {
      "text/plain": [
       "Batch(id='batch_67ad1a98659081908b5888a968ef1c10', completion_window='24h', created_at=1739397784, endpoint='/v1/chat/completions', input_file_id='file-DkePXe5cBGuBNb8SeW3VqJ', object='batch', status='validating', cancelled_at=None, cancelling_at=None, completed_at=None, error_file_id=None, errors=None, expired_at=None, expires_at=1739484184, failed_at=None, finalizing_at=None, in_progress_at=None, metadata=None, output_file_id=None, request_counts=BatchRequestCounts(completed=0, failed=0, total=0))"
      ]
     },
     "execution_count": 12,
     "metadata": {},
     "output_type": "execute_result"
    }
   ],
   "source": [
    "batch"
   ]
  },
  {
   "cell_type": "code",
   "execution_count": 17,
   "metadata": {},
   "outputs": [
    {
     "name": "stdout",
     "output_type": "stream",
     "text": [
      "Batch status: in_progress\n",
      "Batch(id='batch_67ad1a98659081908b5888a968ef1c10', completion_window='24h', created_at=1739397784, endpoint='/v1/chat/completions', input_file_id='file-DkePXe5cBGuBNb8SeW3VqJ', object='batch', status='in_progress', cancelled_at=None, cancelling_at=None, completed_at=None, error_file_id=None, errors=None, expired_at=None, expires_at=1739484184, failed_at=None, finalizing_at=None, in_progress_at=1739397786, metadata=None, output_file_id=None, request_counts=BatchRequestCounts(completed=0, failed=0, total=250))\n"
     ]
    }
   ],
   "source": [
    "batch_out_path = process_flows.retrieve_batch_results(batch.id)"
   ]
  }
 ],
 "metadata": {
  "kernelspec": {
   "display_name": ".venv",
   "language": "python",
   "name": "python3"
  },
  "language_info": {
   "codemirror_mode": {
    "name": "ipython",
    "version": 3
   },
   "file_extension": ".py",
   "mimetype": "text/x-python",
   "name": "python",
   "nbconvert_exporter": "python",
   "pygments_lexer": "ipython3",
   "version": "3.11.11"
  }
 },
 "nbformat": 4,
 "nbformat_minor": 2
}
