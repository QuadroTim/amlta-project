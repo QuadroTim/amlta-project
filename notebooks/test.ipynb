{
  "cells": [
    {
      "cell_type": "markdown",
      "metadata": {
        "colab_type": "text",
        "id": "view-in-github"
      },
      "source": [
        "<a href=\"https://colab.research.google.com/github/woranov/amlta-project/blob/main/notebooks/test.ipynb\" target=\"_parent\"><img src=\"https://colab.research.google.com/assets/colab-badge.svg\" alt=\"Open In Colab\"/></a>"
      ]
    },
    {
      "cell_type": "code",
      "execution_count": 1,
      "metadata": {
        "colab": {
          "base_uri": "https://localhost:8080/"
        },
        "id": "-b62A7X5XT_7",
        "outputId": "a50875a7-1616-4d49-bec1-866025b00740"
      },
      "outputs": [],
      "source": [
        "try:\n",
        "    import amlta\n",
        "except ImportError:\n",
        "    %pip install git+https://github.com/woranov/amlta-project.git"
      ]
    },
    {
      "cell_type": "code",
      "execution_count": 2,
      "metadata": {
        "id": "sK7wK7S0a_2Z"
      },
      "outputs": [],
      "source": [
        "import json\n",
        "from pathlib import Path\n",
        "\n",
        "try:\n",
        "    from google.colab import drive  # pyright: ignore[reportMissingImports]\n",
        "\n",
        "    IN_COLAB = True\n",
        "except ImportError:\n",
        "    IN_COLAB = False\n",
        "\n",
        "from amlta.config import config\n",
        "from amlta.probas import extract, processes"
      ]
    },
    {
      "cell_type": "code",
      "execution_count": 3,
      "metadata": {
        "colab": {
          "base_uri": "https://localhost:8080/"
        },
        "id": "K5-vUY9TbGIE",
        "outputId": "512ccfe7-5bb6-4c88-84be-cc5e0fed8e56"
      },
      "outputs": [],
      "source": [
        "if IN_COLAB:\n",
        "    mount_point = Path(\"/content/drive\")\n",
        "    drive_path = mount_point / \"MyDrive\"\n",
        "    data_dir = drive_path / \"uni\" / \"ws2425\" / \"amlta\" / \"project\" / \"data\"\n",
        "\n",
        "    config.update(data_dir=data_dir)\n",
        "\n",
        "    if not mount_point.exists():\n",
        "        drive.mount(str(mount_point))"
      ]
    },
    {
      "cell_type": "code",
      "execution_count": 4,
      "metadata": {
        "id": "zqDN9k3laotY"
      },
      "outputs": [],
      "source": [
        "process_file = next(config.ilcd_processes_json_dir.iterdir())"
      ]
    },
    {
      "cell_type": "code",
      "execution_count": 5,
      "metadata": {
        "colab": {
          "base_uri": "https://localhost:8080/"
        },
        "id": "zMJxS_0QDY04",
        "outputId": "deef83a9-d5e5-4249-b797-435a3bbdcd6e"
      },
      "outputs": [],
      "source": [
        "process = processes.ProcessData.from_json_file(process_file)"
      ]
    },
    {
      "cell_type": "code",
      "execution_count": null,
      "metadata": {},
      "outputs": [
        {
          "data": {
            "text/html": [
              "<div>\n",
              "<style scoped>\n",
              "    .dataframe tbody tr th:only-of-type {\n",
              "        vertical-align: middle;\n",
              "    }\n",
              "\n",
              "    .dataframe tbody tr th {\n",
              "        vertical-align: top;\n",
              "    }\n",
              "\n",
              "    .dataframe thead th {\n",
              "        text-align: right;\n",
              "    }\n",
              "</style>\n",
              "<table border=\"1\" class=\"dataframe\">\n",
              "  <thead>\n",
              "    <tr style=\"text-align: right;\">\n",
              "      <th></th>\n",
              "      <th>exchange_direction</th>\n",
              "      <th>exchange_mean_amount</th>\n",
              "      <th>exchange_resulting_amount</th>\n",
              "      <th>exchange_resulting_flow_amount</th>\n",
              "      <th>exchange_type_of_flow</th>\n",
              "      <th>exchange_classification_hierarchy</th>\n",
              "      <th>flow_uuid</th>\n",
              "      <th>flow_description</th>\n",
              "      <th>flow_property_uuid</th>\n",
              "      <th>flow_property_name</th>\n",
              "      <th>flow_property_unit</th>\n",
              "    </tr>\n",
              "  </thead>\n",
              "  <tbody>\n",
              "    <tr>\n",
              "      <th>0</th>\n",
              "      <td>INPUT</td>\n",
              "      <td>1000000.0</td>\n",
              "      <td>1000000.0</td>\n",
              "      <td>1000000.0</td>\n",
              "      <td>Product flow</td>\n",
              "      <td>Systems / Other systems</td>\n",
              "      <td>0e0b2490-9043-11d3-b2c8-0080c8941b49</td>\n",
              "      <td>coal-AU-low-S</td>\n",
              "      <td>93a60a56-a3c8-11da-a746-0800200c9a66</td>\n",
              "      <td>Net calorific value</td>\n",
              "      <td>MJ</td>\n",
              "    </tr>\n",
              "    <tr>\n",
              "      <th>1</th>\n",
              "      <td>INPUT</td>\n",
              "      <td>832507.0</td>\n",
              "      <td>832507.0</td>\n",
              "      <td>832507.0</td>\n",
              "      <td>Product flow</td>\n",
              "      <td>Systems / Other systems</td>\n",
              "      <td>d52283e0-1482-11d4-b41c-0080c88d3b6a</td>\n",
              "      <td>Gütertransport-Dienstleistung</td>\n",
              "      <td>9833bf28-0b81-4d54-b562-9802987983f1</td>\n",
              "      <td>Distance transported</td>\n",
              "      <td>t*km</td>\n",
              "    </tr>\n",
              "    <tr>\n",
              "      <th>2</th>\n",
              "      <td>OUTPUT</td>\n",
              "      <td>1000000.0</td>\n",
              "      <td>1000000.0</td>\n",
              "      <td>1000000.0</td>\n",
              "      <td>Product flow</td>\n",
              "      <td>Systems / Other systems</td>\n",
              "      <td>0e0b2490-9043-11d3-b2c8-0080c8941b49</td>\n",
              "      <td>coal-AU-low-S</td>\n",
              "      <td>93a60a56-a3c8-11da-a746-0800200c9a66</td>\n",
              "      <td>Net calorific value</td>\n",
              "      <td>MJ</td>\n",
              "    </tr>\n",
              "  </tbody>\n",
              "</table>\n",
              "</div>"
            ],
            "text/plain": [
              "  exchange_direction  exchange_mean_amount  exchange_resulting_amount  \\\n",
              "0              INPUT             1000000.0                  1000000.0   \n",
              "1              INPUT              832507.0                   832507.0   \n",
              "2             OUTPUT             1000000.0                  1000000.0   \n",
              "\n",
              "   exchange_resulting_flow_amount exchange_type_of_flow  \\\n",
              "0                       1000000.0          Product flow   \n",
              "1                        832507.0          Product flow   \n",
              "2                       1000000.0          Product flow   \n",
              "\n",
              "  exchange_classification_hierarchy                             flow_uuid  \\\n",
              "0           Systems / Other systems  0e0b2490-9043-11d3-b2c8-0080c8941b49   \n",
              "1           Systems / Other systems  d52283e0-1482-11d4-b41c-0080c88d3b6a   \n",
              "2           Systems / Other systems  0e0b2490-9043-11d3-b2c8-0080c8941b49   \n",
              "\n",
              "                flow_description                    flow_property_uuid  \\\n",
              "0                  coal-AU-low-S  93a60a56-a3c8-11da-a746-0800200c9a66   \n",
              "1  Gütertransport-Dienstleistung  9833bf28-0b81-4d54-b562-9802987983f1   \n",
              "2                  coal-AU-low-S  93a60a56-a3c8-11da-a746-0800200c9a66   \n",
              "\n",
              "     flow_property_name flow_property_unit  \n",
              "0   Net calorific value                 MJ  \n",
              "1  Distance transported               t*km  \n",
              "2   Net calorific value                 MJ  "
            ]
          },
          "execution_count": 6,
          "metadata": {},
          "output_type": "execute_result"
        }
      ],
      "source": [
        "df = extract.extract_process_flows(process)\n",
        "df"
      ]
    }
  ],
  "metadata": {
    "colab": {
      "include_colab_link": true,
      "provenance": []
    },
    "kernelspec": {
      "display_name": ".venv",
      "language": "python",
      "name": "python3"
    },
    "language_info": {
      "codemirror_mode": {
        "name": "ipython",
        "version": 3
      },
      "file_extension": ".py",
      "mimetype": "text/x-python",
      "name": "python",
      "nbconvert_exporter": "python",
      "pygments_lexer": "ipython3",
      "version": "3.11.11"
    }
  },
  "nbformat": 4,
  "nbformat_minor": 0
}
