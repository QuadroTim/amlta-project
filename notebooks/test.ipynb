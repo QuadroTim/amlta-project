{
 "cells": [
  {
   "cell_type": "markdown",
   "metadata": {
    "colab_type": "text",
    "id": "view-in-github"
   },
   "source": [
    "<a href=\"https://colab.research.google.com/github/woranov/amlta-project/blob/main/notebooks/test.ipynb\" target=\"_parent\"><img src=\"https://colab.research.google.com/assets/colab-badge.svg\" alt=\"Open In Colab\"/></a>"
   ]
  },
  {
   "cell_type": "code",
   "execution_count": null,
   "metadata": {
    "colab": {
     "base_uri": "https://localhost:8080/"
    },
    "id": "-b62A7X5XT_7",
    "outputId": "4c770fc3-54e3-4653-fc8e-7f5faffe5338"
   },
   "outputs": [],
   "source": [
    "try:\n",
    "    import amlta  # noqa: F401\n",
    "except ImportError:\n",
    "    %pip install --no-dependencies git+https://github.com/woranov/amlta-project.git"
   ]
  },
  {
   "cell_type": "code",
   "execution_count": null,
   "metadata": {
    "id": "sK7wK7S0a_2Z"
   },
   "outputs": [],
   "source": [
    "from pathlib import Path\n",
    "\n",
    "try:\n",
    "    from google.colab import drive  # pyright: ignore[reportMissingImports]\n",
    "\n",
    "    IN_COLAB = True\n",
    "except ImportError:\n",
    "    IN_COLAB = False\n",
    "\n",
    "from amlta.config import config\n",
    "from amlta.probas import flows, processes"
   ]
  },
  {
   "cell_type": "code",
   "execution_count": 3,
   "metadata": {
    "colab": {
     "base_uri": "https://localhost:8080/"
    },
    "id": "K5-vUY9TbGIE",
    "outputId": "9c7d8444-e13d-4ebc-f657-d601355fbabb"
   },
   "outputs": [],
   "source": [
    "if IN_COLAB:\n",
    "    mount_point = Path(\"/content/drive\")\n",
    "    drive_path = mount_point / \"MyDrive\"\n",
    "\n",
    "    # edit\n",
    "    data_dir = drive_path / \"uni\" / \"ws2425\" / \"amlta\" / \"project\" / \"data\"\n",
    "\n",
    "    config.update(data_dir=data_dir)\n",
    "\n",
    "    if not mount_point.exists():\n",
    "        drive.mount(str(mount_point))"
   ]
  },
  {
   "cell_type": "code",
   "execution_count": 4,
   "metadata": {
    "id": "V8U8uO3Y669I"
   },
   "outputs": [],
   "source": [
    "# by default lci result only\n",
    "process_uuids = processes.read_uuids()"
   ]
  },
  {
   "cell_type": "code",
   "execution_count": 5,
   "metadata": {
    "id": "zqDN9k3laotY"
   },
   "outputs": [],
   "source": [
    "# get a random one\n",
    "uuid = process_uuids[42]\n",
    "# load process\n",
    "process = processes.ProcessData.from_uuid(uuid)"
   ]
  },
  {
   "cell_type": "code",
   "execution_count": 6,
   "metadata": {
    "colab": {
     "base_uri": "https://localhost:8080/"
    },
    "id": "Uij0lF817hwn",
    "outputId": "9b10636e-492b-4f78-dd14-6c831979806a"
   },
   "outputs": [
    {
     "name": "stdout",
     "output_type": "stream",
     "text": [
      "baseName=[LocalizedText(value='Öl-roh-mix-HR-2005', lang='de')] functionalUnitFlowProperties=None\n"
     ]
    }
   ],
   "source": [
    "print(process.processInformation.dataSetInformation.name)"
   ]
  },
  {
   "cell_type": "code",
   "execution_count": null,
   "metadata": {
    "colab": {
     "base_uri": "https://localhost:8080/",
     "height": 597
    },
    "id": "zMJxS_0QDY04",
    "outputId": "ce1350d5-f525-4d9c-d4bb-a7f8a0f73655"
   },
   "outputs": [
    {
     "data": {
      "text/html": [
       "<div>\n",
       "<style scoped>\n",
       "    .dataframe tbody tr th:only-of-type {\n",
       "        vertical-align: middle;\n",
       "    }\n",
       "\n",
       "    .dataframe tbody tr th {\n",
       "        vertical-align: top;\n",
       "    }\n",
       "\n",
       "    .dataframe thead th {\n",
       "        text-align: right;\n",
       "    }\n",
       "</style>\n",
       "<table border=\"1\" class=\"dataframe\">\n",
       "  <thead>\n",
       "    <tr style=\"text-align: right;\">\n",
       "      <th></th>\n",
       "      <th>exchange_direction</th>\n",
       "      <th>exchange_resulting_amount</th>\n",
       "      <th>exchange_type_of_flow</th>\n",
       "      <th>exchange_classification_hierarchy</th>\n",
       "      <th>flow_uuid</th>\n",
       "      <th>flow_description</th>\n",
       "      <th>flow_property_uuid</th>\n",
       "      <th>flow_property_name</th>\n",
       "      <th>flow_property_unit</th>\n",
       "    </tr>\n",
       "  </thead>\n",
       "  <tbody>\n",
       "    <tr>\n",
       "      <th>0</th>\n",
       "      <td>INPUT</td>\n",
       "      <td>7.050000e+02</td>\n",
       "      <td>Waste flow</td>\n",
       "      <td>End-of-life treatment / Energy recycling</td>\n",
       "      <td>814cedc6-b3ec-4474-86fa-051740192dec</td>\n",
       "      <td>secondary raw materials</td>\n",
       "      <td>93a60a56-a3c8-11da-a746-0800200c9a66</td>\n",
       "      <td>Net calorific value</td>\n",
       "      <td>MJ</td>\n",
       "    </tr>\n",
       "    <tr>\n",
       "      <th>1</th>\n",
       "      <td>INPUT</td>\n",
       "      <td>2.280000e-03</td>\n",
       "      <td>Waste flow</td>\n",
       "      <td>End-of-life treatment / Material recycling</td>\n",
       "      <td>0e0b2476-9043-11d3-b2c8-0080c8941b49</td>\n",
       "      <td>secondary raw materials</td>\n",
       "      <td>93a60a56-a3c8-11da-a746-0800200b9a66</td>\n",
       "      <td>Mass</td>\n",
       "      <td>kg</td>\n",
       "    </tr>\n",
       "    <tr>\n",
       "      <th>2</th>\n",
       "      <td>INPUT</td>\n",
       "      <td>-7.080000e-05</td>\n",
       "      <td>Waste flow</td>\n",
       "      <td>End-of-life treatment / Other end-of-life serv...</td>\n",
       "      <td>0e0b2403-9043-11d3-b2c8-0080c8941b49</td>\n",
       "      <td>NF-scrap</td>\n",
       "      <td>93a60a56-a3c8-11da-a746-0800200b9a66</td>\n",
       "      <td>Mass</td>\n",
       "      <td>kg</td>\n",
       "    </tr>\n",
       "    <tr>\n",
       "      <th>3</th>\n",
       "      <td>INPUT</td>\n",
       "      <td>-1.730000e+00</td>\n",
       "      <td>Waste flow</td>\n",
       "      <td>End-of-life treatment / Other end-of-life serv...</td>\n",
       "      <td>a22c8047-fd56-49a4-8dd2-0c0e54c60cc6</td>\n",
       "      <td>waste</td>\n",
       "      <td>93a60a56-a3c8-11da-a746-0800200c9a66</td>\n",
       "      <td>Net calorific value</td>\n",
       "      <td>MJ</td>\n",
       "    </tr>\n",
       "    <tr>\n",
       "      <th>4</th>\n",
       "      <td>INPUT</td>\n",
       "      <td>1.630000e-07</td>\n",
       "      <td>Waste flow</td>\n",
       "      <td>End-of-life treatment / Material recycling</td>\n",
       "      <td>cc0e481c-80da-11d4-9e81-0080c8426c9a</td>\n",
       "      <td>Fe-scrap</td>\n",
       "      <td>93a60a56-a3c8-11da-a746-0800200b9a66</td>\n",
       "      <td>Mass</td>\n",
       "      <td>kg</td>\n",
       "    </tr>\n",
       "    <tr>\n",
       "      <th>...</th>\n",
       "      <td>...</td>\n",
       "      <td>...</td>\n",
       "      <td>...</td>\n",
       "      <td>...</td>\n",
       "      <td>...</td>\n",
       "      <td>...</td>\n",
       "      <td>...</td>\n",
       "      <td>...</td>\n",
       "      <td>...</td>\n",
       "    </tr>\n",
       "    <tr>\n",
       "      <th>65</th>\n",
       "      <td>OUTPUT</td>\n",
       "      <td>4.270000e+01</td>\n",
       "      <td>Elementary flow</td>\n",
       "      <td>Emissions / Emissions to air / Emissions to ai...</td>\n",
       "      <td>08a91e70-3ddc-11dd-9610-0050c2490048</td>\n",
       "      <td>methane (fossil)</td>\n",
       "      <td>93a60a56-a3c8-11da-a746-0800200b9a66</td>\n",
       "      <td>Mass</td>\n",
       "      <td>kg</td>\n",
       "    </tr>\n",
       "    <tr>\n",
       "      <th>66</th>\n",
       "      <td>OUTPUT</td>\n",
       "      <td>1.110000e-05</td>\n",
       "      <td>Elementary flow</td>\n",
       "      <td>Emissions / Emissions to air / Emissions to ai...</td>\n",
       "      <td>5c69d34a-51e7-4e7d-a89c-c8536962b51a</td>\n",
       "      <td>cadmium (ii)</td>\n",
       "      <td>93a60a56-a3c8-11da-a746-0800200b9a66</td>\n",
       "      <td>Mass</td>\n",
       "      <td>kg</td>\n",
       "    </tr>\n",
       "    <tr>\n",
       "      <th>67</th>\n",
       "      <td>OUTPUT</td>\n",
       "      <td>-8.550000e-12</td>\n",
       "      <td>Elementary flow</td>\n",
       "      <td>Emissions / Emissions to water / Emissions to ...</td>\n",
       "      <td>0d8a8cbb-f28e-4af9-8ddb-d4fed17e6d57</td>\n",
       "      <td>cadmium (ii)</td>\n",
       "      <td>93a60a56-a3c8-11da-a746-0800200b9a66</td>\n",
       "      <td>Mass</td>\n",
       "      <td>kg</td>\n",
       "    </tr>\n",
       "    <tr>\n",
       "      <th>68</th>\n",
       "      <td>OUTPUT</td>\n",
       "      <td>1.900000e-05</td>\n",
       "      <td>Elementary flow</td>\n",
       "      <td>Emissions / Emissions to air / Emissions to ai...</td>\n",
       "      <td>08a91e70-3ddc-11dd-91d7-0050c2490048</td>\n",
       "      <td>arsenic</td>\n",
       "      <td>93a60a56-a3c8-11da-a746-0800200b9a66</td>\n",
       "      <td>Mass</td>\n",
       "      <td>kg</td>\n",
       "    </tr>\n",
       "    <tr>\n",
       "      <th>69</th>\n",
       "      <td>OUTPUT</td>\n",
       "      <td>-3.500000e-12</td>\n",
       "      <td>Elementary flow</td>\n",
       "      <td>Emissions / Emissions to water / Emissions to ...</td>\n",
       "      <td>08a91e70-3ddc-11dd-91df-0050c2490048</td>\n",
       "      <td>arsenic</td>\n",
       "      <td>93a60a56-a3c8-11da-a746-0800200b9a66</td>\n",
       "      <td>Mass</td>\n",
       "      <td>kg</td>\n",
       "    </tr>\n",
       "  </tbody>\n",
       "</table>\n",
       "<p>70 rows × 9 columns</p>\n",
       "</div>"
      ],
      "text/plain": [
       "   exchange_direction  exchange_resulting_amount exchange_type_of_flow  \\\n",
       "0               INPUT               7.050000e+02            Waste flow   \n",
       "1               INPUT               2.280000e-03            Waste flow   \n",
       "2               INPUT              -7.080000e-05            Waste flow   \n",
       "3               INPUT              -1.730000e+00            Waste flow   \n",
       "4               INPUT               1.630000e-07            Waste flow   \n",
       "..                ...                        ...                   ...   \n",
       "65             OUTPUT               4.270000e+01       Elementary flow   \n",
       "66             OUTPUT               1.110000e-05       Elementary flow   \n",
       "67             OUTPUT              -8.550000e-12       Elementary flow   \n",
       "68             OUTPUT               1.900000e-05       Elementary flow   \n",
       "69             OUTPUT              -3.500000e-12       Elementary flow   \n",
       "\n",
       "                    exchange_classification_hierarchy  \\\n",
       "0            End-of-life treatment / Energy recycling   \n",
       "1          End-of-life treatment / Material recycling   \n",
       "2   End-of-life treatment / Other end-of-life serv...   \n",
       "3   End-of-life treatment / Other end-of-life serv...   \n",
       "4          End-of-life treatment / Material recycling   \n",
       "..                                                ...   \n",
       "65  Emissions / Emissions to air / Emissions to ai...   \n",
       "66  Emissions / Emissions to air / Emissions to ai...   \n",
       "67  Emissions / Emissions to water / Emissions to ...   \n",
       "68  Emissions / Emissions to air / Emissions to ai...   \n",
       "69  Emissions / Emissions to water / Emissions to ...   \n",
       "\n",
       "                               flow_uuid         flow_description  \\\n",
       "0   814cedc6-b3ec-4474-86fa-051740192dec  secondary raw materials   \n",
       "1   0e0b2476-9043-11d3-b2c8-0080c8941b49  secondary raw materials   \n",
       "2   0e0b2403-9043-11d3-b2c8-0080c8941b49                 NF-scrap   \n",
       "3   a22c8047-fd56-49a4-8dd2-0c0e54c60cc6                    waste   \n",
       "4   cc0e481c-80da-11d4-9e81-0080c8426c9a                 Fe-scrap   \n",
       "..                                   ...                      ...   \n",
       "65  08a91e70-3ddc-11dd-9610-0050c2490048         methane (fossil)   \n",
       "66  5c69d34a-51e7-4e7d-a89c-c8536962b51a             cadmium (ii)   \n",
       "67  0d8a8cbb-f28e-4af9-8ddb-d4fed17e6d57             cadmium (ii)   \n",
       "68  08a91e70-3ddc-11dd-91d7-0050c2490048                  arsenic   \n",
       "69  08a91e70-3ddc-11dd-91df-0050c2490048                  arsenic   \n",
       "\n",
       "                      flow_property_uuid   flow_property_name  \\\n",
       "0   93a60a56-a3c8-11da-a746-0800200c9a66  Net calorific value   \n",
       "1   93a60a56-a3c8-11da-a746-0800200b9a66                 Mass   \n",
       "2   93a60a56-a3c8-11da-a746-0800200b9a66                 Mass   \n",
       "3   93a60a56-a3c8-11da-a746-0800200c9a66  Net calorific value   \n",
       "4   93a60a56-a3c8-11da-a746-0800200b9a66                 Mass   \n",
       "..                                   ...                  ...   \n",
       "65  93a60a56-a3c8-11da-a746-0800200b9a66                 Mass   \n",
       "66  93a60a56-a3c8-11da-a746-0800200b9a66                 Mass   \n",
       "67  93a60a56-a3c8-11da-a746-0800200b9a66                 Mass   \n",
       "68  93a60a56-a3c8-11da-a746-0800200b9a66                 Mass   \n",
       "69  93a60a56-a3c8-11da-a746-0800200b9a66                 Mass   \n",
       "\n",
       "   flow_property_unit  \n",
       "0                  MJ  \n",
       "1                  kg  \n",
       "2                  kg  \n",
       "3                  MJ  \n",
       "4                  kg  \n",
       "..                ...  \n",
       "65                 kg  \n",
       "66                 kg  \n",
       "67                 kg  \n",
       "68                 kg  \n",
       "69                 kg  \n",
       "\n",
       "[70 rows x 9 columns]"
      ]
     },
     "execution_count": 7,
     "metadata": {},
     "output_type": "execute_result"
    }
   ],
   "source": [
    "# extract process flows to dataframe\n",
    "flows_df = flows.extract_process_flows(process)\n",
    "flows_df"
   ]
  }
 ],
 "metadata": {
  "colab": {
   "include_colab_link": true,
   "provenance": []
  },
  "kernelspec": {
   "display_name": ".venv",
   "language": "python",
   "name": "python3"
  },
  "language_info": {
   "codemirror_mode": {
    "name": "ipython",
    "version": 3
   },
   "file_extension": ".py",
   "mimetype": "text/x-python",
   "name": "python",
   "nbconvert_exporter": "python",
   "pygments_lexer": "ipython3",
   "version": "3.11.11"
  }
 },
 "nbformat": 4,
 "nbformat_minor": 0
}
