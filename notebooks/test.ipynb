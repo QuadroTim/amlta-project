{
 "cells": [
  {
   "cell_type": "markdown",
   "metadata": {
    "colab_type": "text",
    "id": "view-in-github"
   },
   "source": [
    "<a href=\"https://colab.research.google.com/github/woranov/amlta-project/blob/main/notebooks/test.ipynb\" target=\"_parent\"><img src=\"https://colab.research.google.com/assets/colab-badge.svg\" alt=\"Open In Colab\"/></a>"
   ]
  },
  {
   "cell_type": "code",
   "execution_count": null,
   "metadata": {
    "colab": {
     "base_uri": "https://localhost:8080/"
    },
    "id": "-b62A7X5XT_7",
    "outputId": "9db3ef0d-012e-4c7a-9ad9-83bf5e2d4ca7"
   },
   "outputs": [],
   "source": [
    "try:\n",
    "    import amlta\n",
    "except ImportError:\n",
    "    %pip install git+https://github.com/woranov/amlta-project.git"
   ]
  },
  {
   "cell_type": "code",
   "execution_count": 8,
   "metadata": {
    "id": "sK7wK7S0a_2Z"
   },
   "outputs": [],
   "source": [
    "import json\n",
    "from pathlib import Path\n",
    "\n",
    "try:\n",
    "    from google.colab import drive  # pyright: ignore[reportMissingImports]\n",
    "\n",
    "    IN_COLAB = True\n",
    "except ImportError:\n",
    "    IN_COLAB = False\n",
    "\n",
    "from amlta.config import config\n",
    "from amlta.probas import processes"
   ]
  },
  {
   "cell_type": "code",
   "execution_count": 7,
   "metadata": {
    "id": "K5-vUY9TbGIE"
   },
   "outputs": [],
   "source": [
    "if IN_COLAB:\n",
    "    mount_point = Path(\"/content/drive\")\n",
    "    drive_path = mount_point / \"MyDrive\"\n",
    "    data_dir = drive_path / \"uni\" / \"ws2425\" / \"amlta\" / \"project\" / \"data\"\n",
    "\n",
    "    config.update(data_dir=data_dir)\n",
    "\n",
    "    if not mount_point.exists():\n",
    "        drive.mount(mount_point)"
   ]
  },
  {
   "cell_type": "code",
   "execution_count": 5,
   "metadata": {
    "id": "zqDN9k3laotY"
   },
   "outputs": [],
   "source": [
    "process_file = next(config.ilcd_processes_json_dir.iterdir())"
   ]
  },
  {
   "cell_type": "code",
   "execution_count": 9,
   "metadata": {},
   "outputs": [
    {
     "data": {
      "text/plain": [
       "ProcessData(processInformation=ProcessInformation(dataSetInformation=DataSetInformation(UUID='0000ba37-f1e2-440a-aa78-9d0850d286ad', name=BaseNameWrapper(baseName=[LocalizedText(value='Umschlag-AU->DE\\\\Steinkohle-AU-low-S-2000', lang='de')]), classificationInformation=ClassificationInformation(classification=[Classification(class_=[ClassificationItem(value='Hilfs- + Nebentätigkeiten für den Verkehr; Verkehrsvermittlung', level=0, classId='63'), ClassificationItem(value='Frachtumschlag und Lagerei', level=1, classId='63.1')], name='NACE 1.1', classes='../346de909-54de-490d-90df-18c4952c3d26.xml')]), generalComment=[LocalizedText(value='Kurzinfo: Datensatz aus GEMIS. Negative Werte durch Gutschriftenrechnung. \\n \\nGEMIS steht für “Globales Emissions-Modell Integrierter Systeme“; es ist ein Softwaretool des Öko-Instituts. GEMIS wurde 1987 erstmals angewendet und wird seitdem weiterentwickelt. \\n \\nDie GEMIS-Datensätze beruhen - je nach Anwendung - auf unterschiedlichen Methoden; auch der zeitliche und der örtliche Bezug der Datensätze sind verschieden.\\n \\nMethode bei Prozessen mit mehreren Outputs:\\n \\nZur Modellierung der Datensätze zu Multi-Output Prozessen wird in GEMIS die Methode der Systemerweiterung verwendet. Hierbei werden Datensätze, in denen jeweils alle Inputs, alle Outputs und alle Umweltaspekte eines Multi-Output Prozesses ausgewiesen sind, als “Brutto“ bezeichnet. Durch Subtraktion von ‚Bonus’-Prozessen, die jeweils einen der Outputs auf herkömmliche Weise bereitstellen, entsteht ein Nettoprozess, in denen das substituierte Nebenprodukt als Gutschrift erscheint. Die Gutschrift ist dabei kein realer Output des Prozesses, sondern ein rechnerischer ‚Merker’. \\n \\nBeispiel: \\n \\nMulti-Output Prozess Biogas-BZ-MC-HKW-D-2020/brutto: Output ist 1 TJ Elektrizität und 0,6 TJ Wärme, der “Netto“-Datensatz soll sich aber nur auf die Elektrizität beziehen. Durch Subtraktion des Bonusprozesses Wärme-Bonus-Gas-Hzg-D-2020 mit dem Output Wärme(0,6 TJ) entsteht der “Netto“-Datensatz Biogas-BZ-MC-HKW-D-2020/Gas, für den als Output 1 TJ Elektrizität und 0,6 TJ ‚Gutschrift Wärme-Bonus-für-KWK (Bio)-2020 bei Wärme-Bonus-Gas-Hzg-D-2020’ angegeben werden; die Gutschrift stellt keinen Stoff- oder Energiefluss des Prozesses dar, sie ist allein rechnerisch begründet.\\n \\n\\n \\nTransport:\\n \\nAngaben zu den angesetzten Transportdistanzen werden nicht gegeben.\\n \\nAbschneidekriterien:\\n \\nWasser wird in der Regel nur auf der Inputseite angegeben (etwa als Kühlwasser), auch wenn es den Prozess wieder verlässt als Abwasser.\\n Weitere Angaben zu angewendeten Abschneidekriterien werden nicht gegeben.\\n \\nBesondere Nomenklatur:\\n \\nZahlreiche Abkürzungen für Brennstoffe aus Biomasse und entsprechende Technologien.\\n \\nBesonderheiten auf Datensatzebene:\\n \\nDie Datensätze sind mit Vorketten-Datensätzen verknüpft, in denen die jeweils benötigten Vorprodukte, Energien und Transportleistungen erzeugt werden. Die Daten zu den Umweltaspekten werden erstens “direkt“ (d.h., nur aus dem jeweiligen Prozess, falls dieser direkt zu Umweltaspekten beiträgt) als auch “mit Vorkette“ (d.h., einschließlich aller vorausgehenden Prozesse) ausgewiesen. \\n Negative Werte für Stoffflüsse kommen in GEMIS regelmäßig vor; sie entstehen durch die Anwendung von Systemerweiterung um Multi-Output Prozesse in Single Output Prozesse umzurechnen. \\n Teilweise werden Aufwendungen für Produktionsmittel (Anlagen, Fahrzeuge etc.) aufgeführt (als Stoffflüsse im Input); diese sind jedoch nicht auf die funktionelle Einheit bezogen, sondern werden als absolute Werte angegeben; sie werden nur als Input und nicht als Output (Entsorgung der Betriebsmittel) angegeben. \\n Die durch die Herstellung dieser Produktionsmittel verursachten Umweltaspekte sind dagegen über Leistung, jährliche Auslastung und Lebensdauer auf die funktionelle Einheit bezogen \\n \\nWeiterführende Hinweise und Literatur:\\n \\n#1: Fritsche, U.R., Schmidt, K.: Globales Emissions-Modell Integrierter Systeme (GEMIS), Version 4.2, Handbuch, Darmstadt, August 2004.\\n #2: Fritsche, U.R., Schmidt, K.: Globales Emissions-Modell Integrierter Systeme (GEMIS), Version 4.1, Handbuch, Darmstadt, Darmstadt, Januar 2003.\\n #3: Fritsche, U., et al.: Stoffstromanalyse zur nachhaltigen energetischen Nutzung von Biomasse, Verbundprojekt gefördert vom BMU im Rahmen des ZIP, Projektträger: FZ Jülich, Mai 2004, Anhangband zum Endbericht.\\n #4: Fritsche, U., et al.: Umweltanalyse von Energie-, Transport- und Stoffsystemen: Gesamt-Emissions-Modell integrierter Systeme (GEMIS) Version 2.1 - erweiterter und aktualisierter Endbericht, U. Fritsche u.a., i.A. des Hessischen Ministeriums für Umwelt, Energie und Bundesangelegenheiten (HMUEB), veröffentlicht durch HMUEB, Wiesbaden 1995\\n \\n\\n\\n', lang='de')], referenceToExternalDocumentation=[ContactData(shortDescription=[LocalizedText(value='Probas-Anmerkungen zu Gemis-Daten', lang='de'), LocalizedText(value='Probas remarks regarding GEMIS data', lang='en')], type='source data set', refObjectId='a20ed7d8-cb0a-46fe-95cc-e563a495184a')]), quantitativeReference=QuantitativeReference(referenceToReferenceFlow=[2], functionalUnitOrOther=[LocalizedText(value='1 TJ  Steinkohle-AU-S-arm', lang='de')], type='Reference flow(s)'), time=Time(referenceYear=2000), geography=Geography(locationOfOperationSupplyOrProduction=LocationOfOperation(location='DE')), technology=Technology(technologyDescriptionAndIncludedProcesses=[LocalizedText(value='Prozess zum Warenumschlag (Hafen): Verladen von importierter australischer Steinkohle vom Seeschiff in einem generischen Hafen zum inländischen Weitertransport, Daten nach #1\\nAuslastung: 5000h/a\\nBrenn-/Einsatzstoff: Brennstoffe-fossil-Kohle\\ngesicherte Leistung: 100%\\nJahr: 2000\\nLebensdauer: 20a\\nLeistung: 1MW\\nNutzungsgrad: 100%\\nProdukt: Brennstoffe-fossil-Kohle', lang='de')])), modellingAndValidation=ModellingAndValidation(LCIMethodAndAllocation=LCIMethodAndAllocation(typeOfDataSet='Unit process, single operation'), dataSourcesTreatmentAndRepresentativeness=DataSourcesTreatmentAndRepresentativeness(referenceToDataSource=[ContactData(shortDescription=[LocalizedText(value='VdKI 1996', lang='de')], type='source data set', refObjectId='0e0b263b-9043-11d3-b2c8-0080c8941b49'), ContactData(shortDescription=[LocalizedText(value=\"Originaldokumentation von 'Umschlag-AU->DE\\\\Steinkohle-AU-low-S-2000'\", lang='de')], type='source data set', refObjectId='585da35a-2a0a-4a98-a074-cab378fc4fea')]), validation=Validation(review=[Review(referenceToNameOfReviewerAndInstitution=[ContactData(shortDescription=[LocalizedText(value='IINAS - International Institute for Sustainability Analysis', lang='de')], type='contact data set', refObjectId='560b33bd-84c9-4f0f-8fb8-0d10100f15fa')], type='Independent external review')])), administrativeInformation=AdministrativeInformation(commissionerAndGoal=CommissionerAndGoal(referenceToCommissioner=[ContactData(shortDescription=[LocalizedText(value='Umweltbundesamt', lang='de'), LocalizedText(value='German Environment Agency(Umweltbundesamt – UBA)', lang='en')], type='contact data set', refObjectId='0a115508-df22-47d6-a974-355974c6626e')], project=[LocalizedText(value='GEMIS-Stammdaten', lang='de')]), dataGenerator=DataGenerator(referenceToPersonOrEntityGeneratingTheDataSet=[ContactData(shortDescription=[LocalizedText(value='GEMIS-Stammdaten', lang='de')], type='contact data set', refObjectId='947e2454-b130-46ba-a236-b3705d7eab5f')]), dataEntryBy=DataEntryBy(referenceToDataSetFormat=[DataSetFormat(shortDescription=[LocalizedText(value='ILCD Format', lang='de'), LocalizedText(value='ILCD format', lang='en')], type='source data set', refObjectId='a97a0155-0234-4b87-b4ce-a45da52f2a40')], referenceToPersonOrEntityEnteringTheData=ContactData(shortDescription=[LocalizedText(value='Uwe R. Fritsche', lang='de')], type='contact data set', refObjectId='7912238a-d2c7-4927-9a22-31564eacce29')), publicationAndOwnership=PublicationAndOwnership(dataSetVersion='02.44.152', permanentDataSetURI='https://probas.umweltbundesamt.de/daten/resource/processes/0000ba37-f1e2-440a-aa78-9d0850d286ad?Version=02.44.152', dateOfLastRevision=1600213800000, referenceToOwnershipOfDataSet=ContactData(shortDescription=[LocalizedText(value='Uwe R. Fritsche', lang='de'), LocalizedText(value='Uwe R. Fritsche', lang='en')], type='contact data set', refObjectId='7912238a-d2c7-4927-9a22-31564eacce29'), copyright=True, licenseType='Free of charge for all users and uses', accessRestrictions=[AccessRestriction(value='Es gelten die Probas Nutzungsbedingungen, die hier eingesehen werden können: https://probas.umweltbundesamt.de/daten/static/Nutzungsbedingungen_ProBas.pdf', lang='de')])), exchanges=Exchanges(exchange=[Exchange(dataSetInternalID=0, referenceToFlowDataSet=ReferenceToFlowDataSet(shortDescription=[LocalizedText(value='Steinkohle-AU-S-arm', lang='de'), LocalizedText(value='coal-AU-low-S', lang='en')], type='flow data set', refObjectId='0e0b2490-9043-11d3-b2c8-0080c8941b49'), exchange_direction='INPUT', meanAmount=1000000.0, resultingAmount=1000000.0, uncertaintyDistributionType='UNDEFINED', other=Other(anies=['<ef2018:originatingProcess xmlns:ef2018=\"http://eplca.jrc.ec.europa.eu/ILCD/Extensions/2018/EF\" xmlns=\"http://lca.jrc.it/ILCD/Process\" xmlns:common=\"http://lca.jrc.it/ILCD/Common\" refObjectId=\"db4f6a0e-dc3d-4112-8b4a-9ee2006c0130\"><common:shortDescription xml:lang=\"de\">Umschlag-AU\\\\Steinkohle-AU-low-S-2000</common:shortDescription>\\n        </ef2018:originatingProcess>']), resolvedFlowVersion='02.44.152', resultingflowAmount=1000000.0, flowProperties=[FlowProperty(name=[LocalizedText(value='Net calorific value', lang='en')], uuid='93a60a56-a3c8-11da-a746-0800200c9a66', referenceFlowProperty=True, meanValue=1.0, referenceUnit='MJ', unitGroupUUID='93a60a57-a3c8-11da-a746-0800200c9a66')], typeOfFlow='Product flow', classification=ClassificationInfo(classHierarchy='Systems / Other systems', name='ilcd')), Exchange(dataSetInternalID=1, referenceToFlowDataSet=ReferenceToFlowDataSet(shortDescription=[LocalizedText(value='Gütertransport-Dienstleistung', lang='de'), LocalizedText(value='Gütertransport-Dienstleistung', lang='en')], type='flow data set', refObjectId='d52283e0-1482-11d4-b41c-0080c88d3b6a'), exchange_direction='INPUT', meanAmount=832507.0, resultingAmount=832507.0, uncertaintyDistributionType='UNDEFINED', other=None, resolvedFlowVersion='02.44.152', resultingflowAmount=832507.0, flowProperties=[FlowProperty(name=[LocalizedText(value='Distance transported', lang='en')], uuid='9833bf28-0b81-4d54-b562-9802987983f1', referenceFlowProperty=True, meanValue=1.0, referenceUnit='t*km', unitGroupUUID='838aaa21-0117-11db-92e3-0800200c9a66')], typeOfFlow='Product flow', classification=ClassificationInfo(classHierarchy='Systems / Other systems', name='ilcd')), Exchange(dataSetInternalID=2, referenceToFlowDataSet=ReferenceToFlowDataSet(shortDescription=[LocalizedText(value='Steinkohle-AU-S-arm', lang='de'), LocalizedText(value='coal-AU-low-S', lang='en')], type='flow data set', refObjectId='0e0b2490-9043-11d3-b2c8-0080c8941b49'), exchange_direction='OUTPUT', meanAmount=1000000.0, resultingAmount=1000000.0, uncertaintyDistributionType='UNDEFINED', other=None, resolvedFlowVersion='02.44.152', resultingflowAmount=1000000.0, flowProperties=[FlowProperty(name=[LocalizedText(value='Net calorific value', lang='en')], uuid='93a60a56-a3c8-11da-a746-0800200c9a66', referenceFlowProperty=True, meanValue=1.0, referenceUnit='MJ', unitGroupUUID='93a60a57-a3c8-11da-a746-0800200c9a66')], typeOfFlow='Product flow', classification=ClassificationInfo(classHierarchy='Systems / Other systems', name='ilcd'))]), LCIAResults=LCIAResults(LCIAResult=[LCIAResult(referenceToLCIAMethodDataSet=ReferenceToLCIAMethodDataSet(shortDescription=[LocalizedText(value='KEA, sonstige', lang='de')], type='LCIA method data set', refObjectId='5e0c0def-8819-41aa-8c65-c41e029231f8'), meanAmount=0.0, uncertaintyDistributionType='undefined'), LCIAResult(referenceToLCIAMethodDataSet=ReferenceToLCIAMethodDataSet(shortDescription=[LocalizedText(value='KEA, erneuerbar', lang='de')], type='LCIA method data set', refObjectId='0112e78e-eeee-4a4d-8e1a-6c7eead1cfca'), meanAmount=0.0, uncertaintyDistributionType='undefined'), LCIAResult(referenceToLCIAMethodDataSet=ReferenceToLCIAMethodDataSet(shortDescription=[LocalizedText(value='KEA-nichterneuerbar', lang='de')], type='LCIA method data set', refObjectId='aa4ff649-ff2f-4c5c-8d70-23160ac4d8a1'), meanAmount=0.0, uncertaintyDistributionType='undefined'), LCIAResult(referenceToLCIAMethodDataSet=ReferenceToLCIAMethodDataSet(shortDescription=[LocalizedText(value='KEV, sonstige', lang='de')], type='LCIA method data set', refObjectId='342c0b66-1f97-4393-8190-f5716c683fa1'), meanAmount=0.0, uncertaintyDistributionType='undefined'), LCIAResult(referenceToLCIAMethodDataSet=ReferenceToLCIAMethodDataSet(shortDescription=[LocalizedText(value='KEV, erneuerbar', lang='de')], type='LCIA method data set', refObjectId='66ea4732-e5e0-4fc4-91eb-6ff6970bfde7'), meanAmount=0.0, uncertaintyDistributionType='undefined'), LCIAResult(referenceToLCIAMethodDataSet=ReferenceToLCIAMethodDataSet(shortDescription=[LocalizedText(value='KEV-nichterneuerbar', lang='de')], type='LCIA method data set', refObjectId='d52283fe-1482-11d4-b41c-0080c88d3b6a'), meanAmount=0.0, uncertaintyDistributionType='undefined'), LCIAResult(referenceToLCIAMethodDataSet=ReferenceToLCIAMethodDataSet(shortDescription=[LocalizedText(value='Treibhauseffekt', lang='de')], type='LCIA method data set', refObjectId='b2df61f8-1825-42f8-a163-895a8dcfd9a9'), meanAmount=0.0, uncertaintyDistributionType='undefined'), LCIAResult(referenceToLCIAMethodDataSet=ReferenceToLCIAMethodDataSet(shortDescription=[LocalizedText(value='Versauerung', lang='de')], type='LCIA method data set', refObjectId='47782e9d-4b4e-4122-ba33-45bcfdaaac60'), meanAmount=0.0, uncertaintyDistributionType='undefined')]), version='1.1', locations=None)"
      ]
     },
     "execution_count": 9,
     "metadata": {},
     "output_type": "execute_result"
    }
   ],
   "source": [
    "processes.ProcessData.from_json_file(process_file)"
   ]
  },
  {
   "cell_type": "code",
   "execution_count": 6,
   "metadata": {
    "colab": {
     "base_uri": "https://localhost:8080/"
    },
    "id": "lC9U32pYatzV",
    "outputId": "0c7ca141-2f5c-4786-cfea-364c466a6e7c"
   },
   "outputs": [
    {
     "data": {
      "text/plain": [
       "{'processInformation': {'dataSetInformation': {'UUID': '0000ba37-f1e2-440a-aa78-9d0850d286ad',\n",
       "   'name': {'baseName': [{'value': 'Umschlag-AU->DE\\\\Steinkohle-AU-low-S-2000',\n",
       "      'lang': 'de'}]},\n",
       "   'classificationInformation': {'classification': [{'class': [{'value': 'Hilfs- + Nebentätigkeiten für den Verkehr; Verkehrsvermittlung',\n",
       "        'level': 0,\n",
       "        'classId': '63'},\n",
       "       {'value': 'Frachtumschlag und Lagerei', 'level': 1, 'classId': '63.1'}],\n",
       "      'name': 'NACE 1.1',\n",
       "      'classes': '../346de909-54de-490d-90df-18c4952c3d26.xml'}]},\n",
       "   'generalComment': [{'value': 'Kurzinfo: Datensatz aus GEMIS. Negative Werte durch Gutschriftenrechnung. \\n \\nGEMIS steht für “Globales Emissions-Modell Integrierter Systeme“; es ist ein Softwaretool des Öko-Instituts. GEMIS wurde 1987 erstmals angewendet und wird seitdem weiterentwickelt. \\n \\nDie GEMIS-Datensätze beruhen - je nach Anwendung - auf unterschiedlichen Methoden; auch der zeitliche und der örtliche Bezug der Datensätze sind verschieden.\\n \\nMethode bei Prozessen mit mehreren Outputs:\\n \\nZur Modellierung der Datensätze zu Multi-Output Prozessen wird in GEMIS die Methode der Systemerweiterung verwendet. Hierbei werden Datensätze, in denen jeweils alle Inputs, alle Outputs und alle Umweltaspekte eines Multi-Output Prozesses ausgewiesen sind, als “Brutto“ bezeichnet. Durch Subtraktion von ‚Bonus’-Prozessen, die jeweils einen der Outputs auf herkömmliche Weise bereitstellen, entsteht ein Nettoprozess, in denen das substituierte Nebenprodukt als Gutschrift erscheint. Die Gutschrift ist dabei kein realer Output des Prozesses, sondern ein rechnerischer ‚Merker’. \\n \\nBeispiel: \\n \\nMulti-Output Prozess Biogas-BZ-MC-HKW-D-2020/brutto: Output ist 1 TJ Elektrizität und 0,6 TJ Wärme, der “Netto“-Datensatz soll sich aber nur auf die Elektrizität beziehen. Durch Subtraktion des Bonusprozesses Wärme-Bonus-Gas-Hzg-D-2020 mit dem Output Wärme(0,6 TJ) entsteht der “Netto“-Datensatz Biogas-BZ-MC-HKW-D-2020/Gas, für den als Output 1 TJ Elektrizität und 0,6 TJ ‚Gutschrift Wärme-Bonus-für-KWK (Bio)-2020 bei Wärme-Bonus-Gas-Hzg-D-2020’ angegeben werden; die Gutschrift stellt keinen Stoff- oder Energiefluss des Prozesses dar, sie ist allein rechnerisch begründet.\\n \\n\\n \\nTransport:\\n \\nAngaben zu den angesetzten Transportdistanzen werden nicht gegeben.\\n \\nAbschneidekriterien:\\n \\nWasser wird in der Regel nur auf der Inputseite angegeben (etwa als Kühlwasser), auch wenn es den Prozess wieder verlässt als Abwasser.\\n Weitere Angaben zu angewendeten Abschneidekriterien werden nicht gegeben.\\n \\nBesondere Nomenklatur:\\n \\nZahlreiche Abkürzungen für Brennstoffe aus Biomasse und entsprechende Technologien.\\n \\nBesonderheiten auf Datensatzebene:\\n \\nDie Datensätze sind mit Vorketten-Datensätzen verknüpft, in denen die jeweils benötigten Vorprodukte, Energien und Transportleistungen erzeugt werden. Die Daten zu den Umweltaspekten werden erstens “direkt“ (d.h., nur aus dem jeweiligen Prozess, falls dieser direkt zu Umweltaspekten beiträgt) als auch “mit Vorkette“ (d.h., einschließlich aller vorausgehenden Prozesse) ausgewiesen. \\n Negative Werte für Stoffflüsse kommen in GEMIS regelmäßig vor; sie entstehen durch die Anwendung von Systemerweiterung um Multi-Output Prozesse in Single Output Prozesse umzurechnen. \\n Teilweise werden Aufwendungen für Produktionsmittel (Anlagen, Fahrzeuge etc.) aufgeführt (als Stoffflüsse im Input); diese sind jedoch nicht auf die funktionelle Einheit bezogen, sondern werden als absolute Werte angegeben; sie werden nur als Input und nicht als Output (Entsorgung der Betriebsmittel) angegeben. \\n Die durch die Herstellung dieser Produktionsmittel verursachten Umweltaspekte sind dagegen über Leistung, jährliche Auslastung und Lebensdauer auf die funktionelle Einheit bezogen \\n \\nWeiterführende Hinweise und Literatur:\\n \\n#1: Fritsche, U.R., Schmidt, K.: Globales Emissions-Modell Integrierter Systeme (GEMIS), Version 4.2, Handbuch, Darmstadt, August 2004.\\n #2: Fritsche, U.R., Schmidt, K.: Globales Emissions-Modell Integrierter Systeme (GEMIS), Version 4.1, Handbuch, Darmstadt, Darmstadt, Januar 2003.\\n #3: Fritsche, U., et al.: Stoffstromanalyse zur nachhaltigen energetischen Nutzung von Biomasse, Verbundprojekt gefördert vom BMU im Rahmen des ZIP, Projektträger: FZ Jülich, Mai 2004, Anhangband zum Endbericht.\\n #4: Fritsche, U., et al.: Umweltanalyse von Energie-, Transport- und Stoffsystemen: Gesamt-Emissions-Modell integrierter Systeme (GEMIS) Version 2.1 - erweiterter und aktualisierter Endbericht, U. Fritsche u.a., i.A. des Hessischen Ministeriums für Umwelt, Energie und Bundesangelegenheiten (HMUEB), veröffentlicht durch HMUEB, Wiesbaden 1995\\n \\n\\n\\n',\n",
       "     'lang': 'de'}],\n",
       "   'referenceToExternalDocumentation': [{'shortDescription': [{'value': 'Probas-Anmerkungen zu Gemis-Daten',\n",
       "       'lang': 'de'},\n",
       "      {'value': 'Probas remarks regarding GEMIS data', 'lang': 'en'}],\n",
       "     'type': 'source data set',\n",
       "     'refObjectId': 'a20ed7d8-cb0a-46fe-95cc-e563a495184a'}]},\n",
       "  'quantitativeReference': {'referenceToReferenceFlow': [2],\n",
       "   'functionalUnitOrOther': [{'value': '1 TJ  Steinkohle-AU-S-arm',\n",
       "     'lang': 'de'}],\n",
       "   'type': 'Reference flow(s)'},\n",
       "  'time': {'referenceYear': 2000},\n",
       "  'geography': {'locationOfOperationSupplyOrProduction': {'location': 'DE'}},\n",
       "  'technology': {'technologyDescriptionAndIncludedProcesses': [{'value': 'Prozess zum Warenumschlag (Hafen): Verladen von importierter australischer Steinkohle vom Seeschiff in einem generischen Hafen zum inländischen Weitertransport, Daten nach #1\\nAuslastung: 5000h/a\\nBrenn-/Einsatzstoff: Brennstoffe-fossil-Kohle\\ngesicherte Leistung: 100%\\nJahr: 2000\\nLebensdauer: 20a\\nLeistung: 1MW\\nNutzungsgrad: 100%\\nProdukt: Brennstoffe-fossil-Kohle',\n",
       "     'lang': 'de'}]}},\n",
       " 'modellingAndValidation': {'LCIMethodAndAllocation': {'typeOfDataSet': 'Unit process, single operation'},\n",
       "  'dataSourcesTreatmentAndRepresentativeness': {'referenceToDataSource': [{'shortDescription': [{'value': 'VdKI 1996',\n",
       "       'lang': 'de'}],\n",
       "     'type': 'source data set',\n",
       "     'refObjectId': '0e0b263b-9043-11d3-b2c8-0080c8941b49'},\n",
       "    {'shortDescription': [{'value': \"Originaldokumentation von 'Umschlag-AU->DE\\\\Steinkohle-AU-low-S-2000'\",\n",
       "       'lang': 'de'}],\n",
       "     'type': 'source data set',\n",
       "     'refObjectId': '585da35a-2a0a-4a98-a074-cab378fc4fea'}]},\n",
       "  'validation': {'review': [{'referenceToNameOfReviewerAndInstitution': [{'shortDescription': [{'value': 'IINAS - International Institute for Sustainability Analysis',\n",
       "         'lang': 'de'}],\n",
       "       'type': 'contact data set',\n",
       "       'refObjectId': '560b33bd-84c9-4f0f-8fb8-0d10100f15fa'}],\n",
       "     'type': 'Independent external review'}]}},\n",
       " 'administrativeInformation': {'commissionerAndGoal': {'referenceToCommissioner': [{'shortDescription': [{'value': 'Umweltbundesamt',\n",
       "       'lang': 'de'},\n",
       "      {'value': 'German Environment Agency(Umweltbundesamt – UBA)',\n",
       "       'lang': 'en'}],\n",
       "     'type': 'contact data set',\n",
       "     'refObjectId': '0a115508-df22-47d6-a974-355974c6626e'}],\n",
       "   'project': [{'value': 'GEMIS-Stammdaten', 'lang': 'de'}]},\n",
       "  'dataGenerator': {'referenceToPersonOrEntityGeneratingTheDataSet': [{'shortDescription': [{'value': 'GEMIS-Stammdaten',\n",
       "       'lang': 'de'}],\n",
       "     'type': 'contact data set',\n",
       "     'refObjectId': '947e2454-b130-46ba-a236-b3705d7eab5f'}]},\n",
       "  'dataEntryBy': {'referenceToDataSetFormat': [{'shortDescription': [{'value': 'ILCD Format',\n",
       "       'lang': 'de'},\n",
       "      {'value': 'ILCD format', 'lang': 'en'}],\n",
       "     'type': 'source data set',\n",
       "     'refObjectId': 'a97a0155-0234-4b87-b4ce-a45da52f2a40'}],\n",
       "   'referenceToPersonOrEntityEnteringTheData': {'shortDescription': [{'value': 'Uwe R. Fritsche',\n",
       "      'lang': 'de'}],\n",
       "    'type': 'contact data set',\n",
       "    'refObjectId': '7912238a-d2c7-4927-9a22-31564eacce29'}},\n",
       "  'publicationAndOwnership': {'dataSetVersion': '02.44.152',\n",
       "   'permanentDataSetURI': 'https://probas.umweltbundesamt.de/daten/resource/processes/0000ba37-f1e2-440a-aa78-9d0850d286ad?Version=02.44.152',\n",
       "   'dateOfLastRevision': 1600213800000,\n",
       "   'referenceToOwnershipOfDataSet': {'shortDescription': [{'value': 'Uwe R. Fritsche',\n",
       "      'lang': 'de'},\n",
       "     {'value': 'Uwe R. Fritsche', 'lang': 'en'}],\n",
       "    'type': 'contact data set',\n",
       "    'refObjectId': '7912238a-d2c7-4927-9a22-31564eacce29'},\n",
       "   'copyright': True,\n",
       "   'licenseType': 'Free of charge for all users and uses',\n",
       "   'accessRestrictions': [{'value': 'Es gelten die Probas Nutzungsbedingungen, die hier eingesehen werden können: https://probas.umweltbundesamt.de/daten/static/Nutzungsbedingungen_ProBas.pdf',\n",
       "     'lang': 'de'}]}},\n",
       " 'exchanges': {'exchange': [{'dataSetInternalID': 0,\n",
       "    'referenceToFlowDataSet': {'shortDescription': [{'value': 'Steinkohle-AU-S-arm',\n",
       "       'lang': 'de'},\n",
       "      {'value': 'coal-AU-low-S', 'lang': 'en'}],\n",
       "     'type': 'flow data set',\n",
       "     'refObjectId': '0e0b2490-9043-11d3-b2c8-0080c8941b49'},\n",
       "    'exchange direction': 'INPUT',\n",
       "    'meanAmount': 1000000.0,\n",
       "    'resultingAmount': 1000000.0,\n",
       "    'uncertaintyDistributionType': 'UNDEFINED',\n",
       "    'other': {'anies': ['<ef2018:originatingProcess xmlns:ef2018=\"http://eplca.jrc.ec.europa.eu/ILCD/Extensions/2018/EF\" xmlns=\"http://lca.jrc.it/ILCD/Process\" xmlns:common=\"http://lca.jrc.it/ILCD/Common\" refObjectId=\"db4f6a0e-dc3d-4112-8b4a-9ee2006c0130\"><common:shortDescription xml:lang=\"de\">Umschlag-AU\\\\Steinkohle-AU-low-S-2000</common:shortDescription>\\n        </ef2018:originatingProcess>']},\n",
       "    'resolvedFlowVersion': '02.44.152',\n",
       "    'resultingflowAmount': 1000000.0,\n",
       "    'flowProperties': [{'name': [{'lang': 'en',\n",
       "        'value': 'Net calorific value'}],\n",
       "      'uuid': '93a60a56-a3c8-11da-a746-0800200c9a66',\n",
       "      'referenceFlowProperty': True,\n",
       "      'meanValue': 1.0,\n",
       "      'referenceUnit': 'MJ',\n",
       "      'unitGroupUUID': '93a60a57-a3c8-11da-a746-0800200c9a66'}],\n",
       "    'typeOfFlow': 'Product flow',\n",
       "    'classification': {'classHierarchy': 'Systems / Other systems',\n",
       "     'name': 'ilcd'}},\n",
       "   {'dataSetInternalID': 1,\n",
       "    'referenceToFlowDataSet': {'shortDescription': [{'value': 'Gütertransport-Dienstleistung',\n",
       "       'lang': 'de'},\n",
       "      {'value': 'Gütertransport-Dienstleistung', 'lang': 'en'}],\n",
       "     'type': 'flow data set',\n",
       "     'refObjectId': 'd52283e0-1482-11d4-b41c-0080c88d3b6a'},\n",
       "    'exchange direction': 'INPUT',\n",
       "    'meanAmount': 832507.0,\n",
       "    'resultingAmount': 832507.0,\n",
       "    'uncertaintyDistributionType': 'UNDEFINED',\n",
       "    'generalComments': [{'value': 'Probas1: Transport von Gütertransport-Dienstleistung mit Überseeschiff-2000 832507tkm',\n",
       "      'lang': 'de'}],\n",
       "    'resolvedFlowVersion': '02.44.152',\n",
       "    'resultingflowAmount': 832507.0,\n",
       "    'flowProperties': [{'name': [{'lang': 'en',\n",
       "        'value': 'Distance transported'}],\n",
       "      'uuid': '9833bf28-0b81-4d54-b562-9802987983f1',\n",
       "      'referenceFlowProperty': True,\n",
       "      'meanValue': 1.0,\n",
       "      'referenceUnit': 't*km',\n",
       "      'unitGroupUUID': '838aaa21-0117-11db-92e3-0800200c9a66'}],\n",
       "    'typeOfFlow': 'Product flow',\n",
       "    'classification': {'classHierarchy': 'Systems / Other systems',\n",
       "     'name': 'ilcd'}},\n",
       "   {'dataSetInternalID': 2,\n",
       "    'referenceToFlowDataSet': {'shortDescription': [{'value': 'Steinkohle-AU-S-arm',\n",
       "       'lang': 'de'},\n",
       "      {'value': 'coal-AU-low-S', 'lang': 'en'}],\n",
       "     'type': 'flow data set',\n",
       "     'refObjectId': '0e0b2490-9043-11d3-b2c8-0080c8941b49'},\n",
       "    'exchange direction': 'OUTPUT',\n",
       "    'meanAmount': 1000000.0,\n",
       "    'resultingAmount': 1000000.0,\n",
       "    'uncertaintyDistributionType': 'UNDEFINED',\n",
       "    'referenceFlow': True,\n",
       "    'resolvedFlowVersion': '02.44.152',\n",
       "    'resultingflowAmount': 1000000.0,\n",
       "    'flowProperties': [{'name': [{'lang': 'en',\n",
       "        'value': 'Net calorific value'}],\n",
       "      'uuid': '93a60a56-a3c8-11da-a746-0800200c9a66',\n",
       "      'referenceFlowProperty': True,\n",
       "      'meanValue': 1.0,\n",
       "      'referenceUnit': 'MJ',\n",
       "      'unitGroupUUID': '93a60a57-a3c8-11da-a746-0800200c9a66'}],\n",
       "    'typeOfFlow': 'Product flow',\n",
       "    'classification': {'classHierarchy': 'Systems / Other systems',\n",
       "     'name': 'ilcd'}}]},\n",
       " 'LCIAResults': {'LCIAResult': [{'referenceToLCIAMethodDataSet': {'shortDescription': [{'value': 'KEA, sonstige',\n",
       "       'lang': 'de'}],\n",
       "     'type': 'LCIA method data set',\n",
       "     'refObjectId': '5e0c0def-8819-41aa-8c65-c41e029231f8'},\n",
       "    'meanAmount': 0.0,\n",
       "    'uncertaintyDistributionType': 'undefined'},\n",
       "   {'referenceToLCIAMethodDataSet': {'shortDescription': [{'value': 'KEA, erneuerbar',\n",
       "       'lang': 'de'}],\n",
       "     'type': 'LCIA method data set',\n",
       "     'refObjectId': '0112e78e-eeee-4a4d-8e1a-6c7eead1cfca'},\n",
       "    'meanAmount': 0.0,\n",
       "    'uncertaintyDistributionType': 'undefined'},\n",
       "   {'referenceToLCIAMethodDataSet': {'shortDescription': [{'value': 'KEA-nichterneuerbar',\n",
       "       'lang': 'de'}],\n",
       "     'type': 'LCIA method data set',\n",
       "     'refObjectId': 'aa4ff649-ff2f-4c5c-8d70-23160ac4d8a1'},\n",
       "    'meanAmount': 0.0,\n",
       "    'uncertaintyDistributionType': 'undefined'},\n",
       "   {'referenceToLCIAMethodDataSet': {'shortDescription': [{'value': 'KEV, sonstige',\n",
       "       'lang': 'de'}],\n",
       "     'type': 'LCIA method data set',\n",
       "     'refObjectId': '342c0b66-1f97-4393-8190-f5716c683fa1'},\n",
       "    'meanAmount': 0.0,\n",
       "    'uncertaintyDistributionType': 'undefined'},\n",
       "   {'referenceToLCIAMethodDataSet': {'shortDescription': [{'value': 'KEV, erneuerbar',\n",
       "       'lang': 'de'}],\n",
       "     'type': 'LCIA method data set',\n",
       "     'refObjectId': '66ea4732-e5e0-4fc4-91eb-6ff6970bfde7'},\n",
       "    'meanAmount': 0.0,\n",
       "    'uncertaintyDistributionType': 'undefined'},\n",
       "   {'referenceToLCIAMethodDataSet': {'shortDescription': [{'value': 'KEV-nichterneuerbar',\n",
       "       'lang': 'de'}],\n",
       "     'type': 'LCIA method data set',\n",
       "     'refObjectId': 'd52283fe-1482-11d4-b41c-0080c88d3b6a'},\n",
       "    'meanAmount': 0.0,\n",
       "    'uncertaintyDistributionType': 'undefined'},\n",
       "   {'referenceToLCIAMethodDataSet': {'shortDescription': [{'value': 'Treibhauseffekt',\n",
       "       'lang': 'de'}],\n",
       "     'type': 'LCIA method data set',\n",
       "     'refObjectId': 'b2df61f8-1825-42f8-a163-895a8dcfd9a9'},\n",
       "    'meanAmount': 0.0,\n",
       "    'uncertaintyDistributionType': 'undefined'},\n",
       "   {'referenceToLCIAMethodDataSet': {'shortDescription': [{'value': 'Versauerung',\n",
       "       'lang': 'de'}],\n",
       "     'type': 'LCIA method data set',\n",
       "     'refObjectId': '47782e9d-4b4e-4122-ba33-45bcfdaaac60'},\n",
       "    'meanAmount': 0.0,\n",
       "    'uncertaintyDistributionType': 'undefined'}]},\n",
       " 'version': '1.1'}"
      ]
     },
     "execution_count": 6,
     "metadata": {},
     "output_type": "execute_result"
    }
   ],
   "source": [
    "json.loads(process_file.read_text())"
   ]
  }
 ],
 "metadata": {
  "colab": {
   "authorship_tag": "ABX9TyM6pp918tl2T3nVr58LYJHY",
   "include_colab_link": true,
   "mount_file_id": "11m8gvuUioWKwiK36WAighVutvlxyCNZE",
   "provenance": []
  },
  "kernelspec": {
   "display_name": ".venv",
   "language": "python",
   "name": "python3"
  },
  "language_info": {
   "codemirror_mode": {
    "name": "ipython",
    "version": 3
   },
   "file_extension": ".py",
   "mimetype": "text/x-python",
   "name": "python",
   "nbconvert_exporter": "python",
   "pygments_lexer": "ipython3",
   "version": "3.11.11"
  }
 },
 "nbformat": 4,
 "nbformat_minor": 0
}
