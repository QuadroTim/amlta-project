{
 "cells": [
  {
   "cell_type": "code",
   "execution_count": 63,
   "metadata": {},
   "outputs": [],
   "source": [
    "import asyncio\n",
    "import json\n",
    "import random\n",
    "from typing import cast\n",
    "\n",
    "import pandas as pd\n",
    "from openai import OpenAI\n",
    "from pydantic import BaseModel, Field\n",
    "from tqdm.auto import tqdm\n",
    "\n",
    "from amlta.app import config as app_config\n",
    "\n",
    "app_config.ollama_base_url = \"https://gentle-vulture-knowing.ngrok-free.app/\"\n",
    "app_config.ollama_model = \"qwen2.5:32b-instruct-q3_K_M\"\n",
    "\n",
    "from amlta.app.agent import graph\n",
    "from amlta.app.agent.core import FlowQueries\n",
    "from amlta.config import config\n",
    "from amlta.question_generation.process import QuestionData, load_batches"
   ]
  },
  {
   "cell_type": "code",
   "execution_count": 5,
   "metadata": {},
   "outputs": [],
   "source": [
    "question_data = load_batches()"
   ]
  },
  {
   "cell_type": "code",
   "execution_count": 6,
   "metadata": {},
   "outputs": [],
   "source": [
    "training_df = pd.read_parquet(\n",
    "    config.data_dir / \"tapas-ft\" / \"data\" / \"tapas_train_batched_dfs_shuffled.parquet\"\n",
    ")"
   ]
  },
  {
   "cell_type": "code",
   "execution_count": null,
   "metadata": {},
   "outputs": [
    {
     "data": {
      "text/plain": [
       "721"
      ]
     },
     "execution_count": 7,
     "metadata": {},
     "output_type": "execute_result"
    }
   ],
   "source": [
    "not_trained_on_data = training_df.iloc[int(len(training_df) * 0.8) :]\n",
    "start_batch = not_trained_on_data[\"batch\"].values[0]\n",
    "start_question_id = int(not_trained_on_data[\"question_id\"].values[0])\n",
    "start_process_uuid = not_trained_on_data[\"process_uuid\"].values[0]\n",
    "\n",
    "# find the last question that was part of the training data\n",
    "end_tain_idx = next(\n",
    "    i\n",
    "    for i, q in enumerate(question_data)\n",
    "    if q[\"batch\"] == start_batch\n",
    "    and q[\"question_id\"] == start_question_id\n",
    "    and q[\"process_uuid\"] == start_process_uuid\n",
    ")\n",
    "valid_data = question_data[end_tain_idx + 1 :]\n",
    "len(valid_data)"
   ]
  },
  {
   "cell_type": "code",
   "execution_count": 88,
   "metadata": {},
   "outputs": [],
   "source": [
    "random.seed(42)\n",
    "\n",
    "questions_shuffled = random.sample(valid_data, len(valid_data))\n",
    "questions = questions_shuffled[:100]"
   ]
  },
  {
   "cell_type": "code",
   "execution_count": 89,
   "metadata": {},
   "outputs": [],
   "source": [
    "class RewrittenQuestions(BaseModel):\n",
    "    questions: list[str] = Field(\n",
    "        description=\"List of EXACTLY 5 rewritten question total, ONE per question in the input list\"\n",
    "    )"
   ]
  },
  {
   "cell_type": "code",
   "execution_count": 90,
   "metadata": {},
   "outputs": [],
   "source": [
    "openai = OpenAI()"
   ]
  },
  {
   "cell_type": "code",
   "execution_count": 91,
   "metadata": {},
   "outputs": [],
   "source": [
    "system_prompt = \"\"\"\n",
    "You are a helpful assistant. Your task is to rewrite a list of questions to be more realistic, natural\n",
    "and human.\n",
    "\n",
    "While rewriting the questions, please make sure to keep the meaning of the question intact -- the\n",
    "question should remain answerable with the same accuracy as the original question.\n",
    "\"\"\".strip()\n",
    "\n",
    "\n",
    "def rewrite_batch(questions: list[QuestionData]) -> RewrittenQuestions:\n",
    "    resp = openai.beta.chat.completions.parse(\n",
    "        model=\"gpt-4o-mini\",\n",
    "        messages=[\n",
    "            {\n",
    "                \"role\": \"system\",\n",
    "                \"content\": system_prompt,\n",
    "            },\n",
    "            {\n",
    "                \"role\": \"user\",\n",
    "                \"content\": \"\\n\".join(\n",
    "                    f\"{i}. \" + q[\"question_replaced_general\"]\n",
    "                    for i, q in enumerate(questions)\n",
    "                ),\n",
    "            },\n",
    "        ],\n",
    "        response_format=RewrittenQuestions,\n",
    "        temperature=0.9,\n",
    "        top_p=0.9,\n",
    "    )\n",
    "\n",
    "    resp_model = resp.choices[0].message.parsed\n",
    "    assert resp_model is not None\n",
    "    if len(resp_model.questions) != len(questions):\n",
    "        print(\n",
    "            f\"Warning: Expected {len(questions)} rewritten questions, got {len(resp_model.questions)}\"\n",
    "        )\n",
    "        print(questions)\n",
    "        print(resp_model.questions)\n",
    "        return rewrite_batch(questions)\n",
    "\n",
    "    return resp_model"
   ]
  },
  {
   "cell_type": "code",
   "execution_count": 92,
   "metadata": {},
   "outputs": [],
   "source": [
    "class RewrittenQuestionData(QuestionData):\n",
    "    rewritten: str"
   ]
  },
  {
   "cell_type": "code",
   "execution_count": 93,
   "metadata": {},
   "outputs": [
    {
     "data": {
      "application/vnd.jupyter.widget-view+json": {
       "model_id": "e14d0ff2a878405ba412534f3f709c13",
       "version_major": 2,
       "version_minor": 0
      },
      "text/plain": [
       "  0%|          | 0/20 [00:00<?, ?it/s]"
      ]
     },
     "metadata": {},
     "output_type": "display_data"
    }
   ],
   "source": [
    "rewritten_questions_resps = []\n",
    "rewritten_questions: list[RewrittenQuestionData] = []\n",
    "\n",
    "batch_size = 5\n",
    "for i in tqdm(range(0, len(questions), batch_size)):\n",
    "    batch = questions[i : i + batch_size]\n",
    "    resp = rewrite_batch(batch)\n",
    "    rewritten_questions_resps.append(resp)\n",
    "\n",
    "    for q, rewritten in zip(batch, resp.questions):\n",
    "        rewritten_questions.append(\n",
    "            cast(RewrittenQuestionData, q | {\"rewritten\": rewritten})\n",
    "        )"
   ]
  },
  {
   "cell_type": "code",
   "execution_count": 94,
   "metadata": {},
   "outputs": [],
   "source": [
    "unwrapped_task = graph.rewrite_flows_query.__wrapped__  # type: ignore\n",
    "\n",
    "\n",
    "async def generate_query(question: RewrittenQuestionData):\n",
    "    random.seed(42)\n",
    "    # question_str = random.choice(\n",
    "    #     [\n",
    "    #         question[\"question_replaced_basic\"],\n",
    "    #         question[\"question_replaced_general\"],\n",
    "    #         question[\"question_replaced_specific\"],\n",
    "    #     ]\n",
    "    # )\n",
    "    question_str = question[\"rewritten\"]\n",
    "    return await unwrapped_task(question_str)"
   ]
  },
  {
   "cell_type": "code",
   "execution_count": 95,
   "metadata": {},
   "outputs": [],
   "source": [
    "generated: list[FlowQueries] = []"
   ]
  },
  {
   "cell_type": "code",
   "execution_count": 96,
   "metadata": {},
   "outputs": [
    {
     "data": {
      "application/vnd.jupyter.widget-view+json": {
       "model_id": "060d45c97e82466c87a173a805ea644c",
       "version_major": 2,
       "version_minor": 0
      },
      "text/plain": [
       "  0%|          | 0/10 [00:00<?, ?it/s]"
      ]
     },
     "metadata": {},
     "output_type": "display_data"
    },
    {
     "name": "stdout",
     "output_type": "stream",
     "text": [
      "Failed to parse FlowQueries from completion {\"queries\": [{\"justification\": \"The user is asking for a count of input flows associated with multiple specific processes. The query should reflect the need to find how many inputs are related to each listed process.\", \"query\": \"What is the count of input flows associated with brown coal, wind power, air, geothermal energy, and nuclear energy in electric transportation services?\"}], \"join_type\": \"union\"}. Got: 1 validation error for FlowQueries\n",
      "queries.0.query\n",
      "  Value error, query must end with 'the process?' [type=value_error, input_value='What is the count of inp...ransportation services?', input_type=str]\n",
      "    For further information visit https://errors.pydantic.dev/2.10/v/value_error\n",
      "For troubleshooting, visit: https://python.langchain.com/docs/troubleshooting/errors/OUTPUT_PARSING_FAILURE \n",
      "Failed to parse FlowQueries from completion {\"queries\": [{\"justification\": \"The user is asking about the number of specific type of flow (elementary input flows) related to a process.\", \"query\": \"What is the count of elementary input flows for producing bioenergy heat?\"}], \"join_type\": \"union\"}. Got: 1 validation error for FlowQueries\n",
      "queries.0.query\n",
      "  Value error, query must end with 'the process?' [type=value_error, input_value='What is the count of ele...oducing bioenergy heat?', input_type=str]\n",
      "    For further information visit https://errors.pydantic.dev/2.10/v/value_error\n",
      "For troubleshooting, visit: https://python.langchain.com/docs/troubleshooting/errors/OUTPUT_PARSING_FAILURE \n",
      "Failed to parse FlowQueries from completion {\"queries\": [{\"justification\": \"The user is asking about the average input levels of multiple specific primary energy sources used in processes related to electricity generation. This query will help identify these inputs.\", \"query\": \"What are the average input levels of wind, hydro, natural gas, geothermal, and biomass for generating electricity from both fossil fuels and renewable sources?\"}], \"join_type\": \"union\"}. Got: 1 validation error for FlowQueries\n",
      "queries.0.query\n",
      "  Value error, query must end with 'the process?' [type=value_error, input_value='What are the average inp... and renewable sources?', input_type=str]\n",
      "    For further information visit https://errors.pydantic.dev/2.10/v/value_error\n",
      "For troubleshooting, visit: https://python.langchain.com/docs/troubleshooting/errors/OUTPUT_PARSING_FAILURE \n",
      "Failed to parse FlowQueries from completion {\"queries\": [{\"justification\": \"The user wants to know about the typical energy input, which can be interpreted as an average or total energy input for a specific class of flows (end-of-life treatment) related to processes in biomass-to-liquid diesel production.\", \"query\": \"What is the average energy input for processes classified as end-of-life treatment?\"}], \"join_type\": \"union\"}. Got: 1 validation error for FlowQueries\n",
      "queries.0.query\n",
      "  Value error, query must end with 'the process?' [type=value_error, input_value='What is the average ener... end-of-life treatment?', input_type=str]\n",
      "    For further information visit https://errors.pydantic.dev/2.10/v/value_error\n",
      "For troubleshooting, visit: https://python.langchain.com/docs/troubleshooting/errors/OUTPUT_PARSING_FAILURE \n",
      "Failed to parse FlowQueries from completion {\"queries\": [{\"justification\": \"The user wants to know about the amount of water used specifically for coal transport and logistics, which can be categorized as a specific flow related to a process.\", \"query\": \"What is the amount of water used for coal transport and logistics in Russia?\"}], \"join_type\": \"union\"}. Got: 1 validation error for FlowQueries\n",
      "queries.0.query\n",
      "  Value error, query must end with 'the process?' [type=value_error, input_value='What is the amount of wa...nd logistics in Russia?', input_type=str]\n",
      "    For further information visit https://errors.pydantic.dev/2.10/v/value_error\n",
      "For troubleshooting, visit: https://python.langchain.com/docs/troubleshooting/errors/OUTPUT_PARSING_FAILURE \n",
      "Failed to parse FlowQueries from completion {\"queries\": [{\"justification\": \"The user is asking about an average amount of energy (megajoules) required for the end-of-life treatment process, specifically related to gas heating systems used in homes. The query should focus on finding this specific information without splitting it into multiple queries as there's only one category involved.\", \"query\": \"What are the average input megajoules needed for the end-of-life treatment of gas heating systems used in homes?\"}], \"join_type\": \"union\"}. Got: 1 validation error for FlowQueries\n",
      "queries.0.query\n",
      "  Value error, query must end with 'the process?' [type=value_error, input_value='What are the average inp... systems used in homes?', input_type=str]\n",
      "    For further information visit https://errors.pydantic.dev/2.10/v/value_error\n",
      "For troubleshooting, visit: https://python.langchain.com/docs/troubleshooting/errors/OUTPUT_PARSING_FAILURE \n",
      "Failed to parse FlowQueries from completion {\"queries\": [{\"justification\": \"The user wants to know about the typical energy input, which can be interpreted as an average or total energy input for a specific class of flows (end-of-life treatment) related to processes in biomass-to-liquid diesel production.\", \"query\": \"What is the average energy input for processes classified as end-of-life treatment?\"}], \"join_type\": \"union\"}. Got: 1 validation error for FlowQueries\n",
      "queries.0.query\n",
      "  Value error, query must end with 'the process?' [type=value_error, input_value='What is the average ener... end-of-life treatment?', input_type=str]\n",
      "    For further information visit https://errors.pydantic.dev/2.10/v/value_error\n",
      "For troubleshooting, visit: https://python.langchain.com/docs/troubleshooting/errors/OUTPUT_PARSING_FAILURE \n",
      "Failed to parse FlowQueries from completion {\"queries\": [{\"justification\": \"The user is asking for specific flow information (total production and consumption figures) related to a substance (HFC-32) within a certain industry (natural gas extraction) and country (Algeria). The query should focus on the flows without specifying the process itself.\", \"query\": \"What are the total production and consumption figures for HFC-32 in the natural gas extraction industry?\"}], \"join_type\": \"union\"}. Got: 1 validation error for FlowQueries\n",
      "queries.0.query\n",
      "  Value error, query must end with 'the process?' [type=value_error, input_value='What are the total produ...as extraction industry?', input_type=str]\n",
      "    For further information visit https://errors.pydantic.dev/2.10/v/value_error\n",
      "For troubleshooting, visit: https://python.langchain.com/docs/troubleshooting/errors/OUTPUT_PARSING_FAILURE \n",
      "Failed to parse FlowQueries from completion {\"queries\": [{\"justification\": \"The user wants to know about the energy input used for end-of-life treatment or other end-of-life services related to lignite energy supply. This query is suitable because it focuses on a specific type of flow (energy input) and relates it to a specific class of processes (end-of-life treatment).\", \"query\": \"What is the energy input used for end-of-life treatment or other end-of-life services related to lignite energy supply in Germany?\"}], \"join_type\": \"union\"}. Got: 1 validation error for FlowQueries\n",
      "queries.0.query\n",
      "  Value error, query must end with 'the process?' [type=value_error, input_value='What is the energy input...ergy supply in Germany?', input_type=str]\n",
      "    For further information visit https://errors.pydantic.dev/2.10/v/value_error\n",
      "For troubleshooting, visit: https://python.langchain.com/docs/troubleshooting/errors/OUTPUT_PARSING_FAILURE \n",
      "Failed to parse FlowQueries from completion {\"queries\": [{\"justification\": \"The user is asking for specific types of flows (outputs) related to a class of processes (biomass in German agriculture). The query should focus on the outputs of these specified materials.\", \"query\": \"What are the output quantities of Kl\\u00e4rschlamm, NF-scrap, ash, waste, and REA-residue from biomass in German agriculture?\"}], \"join_type\": \"union\"}. Got: 1 validation error for FlowQueries\n",
      "queries.0.query\n",
      "  Value error, query must end with 'the process?' [type=value_error, input_value='What are the output quan... in German agriculture?', input_type=str]\n",
      "    For further information visit https://errors.pydantic.dev/2.10/v/value_error\n",
      "For troubleshooting, visit: https://python.langchain.com/docs/troubleshooting/errors/OUTPUT_PARSING_FAILURE \n",
      "Failed to parse FlowQueries from completion {\"queries\": [{\"justification\": \"The user wants to know about a specific type of flow (NF-scrap) generated by a certain process. The query should focus on output flows related to the specified process.\", \"query\": \"What are the output NF-scrap flows of the roofing materials manufacturing process?\"}], \"join_type\": \"union\"}. Got: 1 validation error for FlowQueries\n",
      "queries.0.query\n",
      "  Value error, query must end with 'the process?' [type=value_error, input_value='What are the output NF-s... manufacturing process?', input_type=str]\n",
      "    For further information visit https://errors.pydantic.dev/2.10/v/value_error\n",
      "For troubleshooting, visit: https://python.langchain.com/docs/troubleshooting/errors/OUTPUT_PARSING_FAILURE \n",
      "Failed to parse FlowQueries from completion {\"queries\": [{\"justification\": \"The user wants to know about the consumption of natural gas, which would be an input flow for the specified processes. The term 'typical' suggests an average value.\", \"query\": \"What is the average amount of natural gas consumed as an input in transportation services that use diesel?\"}], \"join_type\": \"union\"}. Got: 1 validation error for FlowQueries\n",
      "queries.0.query\n",
      "  Value error, query must end with 'the process?' [type=value_error, input_value='What is the average amou...rvices that use diesel?', input_type=str]\n",
      "    For further information visit https://errors.pydantic.dev/2.10/v/value_error\n",
      "For troubleshooting, visit: https://python.langchain.com/docs/troubleshooting/errors/OUTPUT_PARSING_FAILURE \n"
     ]
    }
   ],
   "source": [
    "start = len(generated)\n",
    "batch_size = 10\n",
    "for i in tqdm(range(start, len(rewritten_questions), batch_size)):\n",
    "    batch = rewritten_questions[i : i + batch_size]\n",
    "    generated.extend(await asyncio.gather(*[generate_query(q) for q in batch]))"
   ]
  },
  {
   "cell_type": "code",
   "execution_count": 100,
   "metadata": {},
   "outputs": [
    {
     "data": {
      "text/plain": [
       "100"
      ]
     },
     "execution_count": 100,
     "metadata": {},
     "output_type": "execute_result"
    }
   ],
   "source": [
    "len(generated)"
   ]
  },
  {
   "cell_type": "code",
   "execution_count": 101,
   "metadata": {},
   "outputs": [],
   "source": [
    "out_path = config.data_dir / \"generated\" / \"tapas-eval-questions.jsonl\""
   ]
  },
  {
   "cell_type": "code",
   "execution_count": 102,
   "metadata": {},
   "outputs": [
    {
     "data": {
      "text/plain": [
       "115397"
      ]
     },
     "execution_count": 102,
     "metadata": {},
     "output_type": "execute_result"
    }
   ],
   "source": [
    "out_path.write_text(\n",
    "    \"\\n\".join(\n",
    "        json.dumps({\"question_data\": q, \"rewritten_flows_query\": g.queries[0].query})\n",
    "        for q, g in zip(rewritten_questions, generated)\n",
    "    )\n",
    ")"
   ]
  }
 ],
 "metadata": {
  "kernelspec": {
   "display_name": ".venv",
   "language": "python",
   "name": "python3"
  },
  "language_info": {
   "codemirror_mode": {
    "name": "ipython",
    "version": 3
   },
   "file_extension": ".py",
   "mimetype": "text/x-python",
   "name": "python",
   "nbconvert_exporter": "python",
   "pygments_lexer": "ipython3",
   "version": "3.12.8"
  }
 },
 "nbformat": 4,
 "nbformat_minor": 2
}
