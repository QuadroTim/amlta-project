{
 "cells": [
  {
   "cell_type": "code",
   "execution_count": null,
   "metadata": {},
   "outputs": [],
   "source": [
    "import asyncio\n",
    "import json\n",
    "import random\n",
    "from typing import cast\n",
    "\n",
    "import pandas as pd\n",
    "from openai import OpenAI\n",
    "from pydantic import BaseModel\n",
    "from tqdm.auto import tqdm\n",
    "\n",
    "from amlta.app import config as app_config\n",
    "\n",
    "app_config.ollama_base_url = \"https://gentle-vulture-knowing.ngrok-free.app/\"\n",
    "app_config.ollama_model = \"qwen2.5:32b-instruct-q3_K_M\"\n",
    "\n",
    "from amlta.app.agent import graph\n",
    "from amlta.app.agent.core import FlowQueries\n",
    "from amlta.config import config\n",
    "from amlta.question_generation.process import QuestionData, load_batches"
   ]
  },
  {
   "cell_type": "code",
   "execution_count": 5,
   "metadata": {},
   "outputs": [],
   "source": [
    "question_data = load_batches()"
   ]
  },
  {
   "cell_type": "code",
   "execution_count": 6,
   "metadata": {},
   "outputs": [],
   "source": [
    "training_df = pd.read_parquet(\n",
    "    config.data_dir / \"tapas-ft\" / \"data\" / \"tapas_train_batched_dfs_shuffled.parquet\"\n",
    ")"
   ]
  },
  {
   "cell_type": "code",
   "execution_count": null,
   "metadata": {},
   "outputs": [
    {
     "data": {
      "text/plain": [
       "721"
      ]
     },
     "execution_count": 7,
     "metadata": {},
     "output_type": "execute_result"
    }
   ],
   "source": [
    "not_trained_on_data = training_df.iloc[int(len(training_df) * 0.8) :]\n",
    "start_batch = not_trained_on_data[\"batch\"].values[0]\n",
    "start_question_id = int(not_trained_on_data[\"question_id\"].values[0])\n",
    "start_process_uuid = not_trained_on_data[\"process_uuid\"].values[0]\n",
    "\n",
    "# find the last question that was part of the training data\n",
    "end_tain_idx = next(\n",
    "    i\n",
    "    for i, q in enumerate(question_data)\n",
    "    if q[\"batch\"] == start_batch\n",
    "    and q[\"question_id\"] == start_question_id\n",
    "    and q[\"process_uuid\"] == start_process_uuid\n",
    ")\n",
    "valid_data = question_data[end_tain_idx + 1 :]\n",
    "len(valid_data)"
   ]
  },
  {
   "cell_type": "code",
   "execution_count": 8,
   "metadata": {},
   "outputs": [],
   "source": [
    "random.seed(42)\n",
    "\n",
    "questions = random.choices(valid_data, k=50)"
   ]
  },
  {
   "cell_type": "code",
   "execution_count": 29,
   "metadata": {},
   "outputs": [],
   "source": [
    "class RewrittenQuestions(BaseModel):\n",
    "    questions: list[str]"
   ]
  },
  {
   "cell_type": "code",
   "execution_count": 27,
   "metadata": {},
   "outputs": [],
   "source": [
    "openai = OpenAI()"
   ]
  },
  {
   "cell_type": "code",
   "execution_count": null,
   "metadata": {},
   "outputs": [],
   "source": [
    "system_prompt = \"\"\"\n",
    "You are a helpful assistant. Your task is to rewrite a list of questions to be more realistic, natural\n",
    "and human.\n",
    "\n",
    "While rewriting the questions, please make sure to keep the meaning of the question intact -- the\n",
    "question should remain answerable with the same accuracy as the original question.\n",
    "\"\"\".strip()\n",
    "\n",
    "\n",
    "def rewrite_batch(questions: list[QuestionData]) -> RewrittenQuestions:\n",
    "    resp = openai.beta.chat.completions.parse(\n",
    "        model=\"gpt-4o-mini\",\n",
    "        messages=[\n",
    "            {\n",
    "                \"role\": \"system\",\n",
    "                \"content\": system_prompt,\n",
    "            },\n",
    "            {\n",
    "                \"role\": \"user\",\n",
    "                \"content\": \"\\n\".join(\n",
    "                    f\"{i}. \" + q[\"question_replaced_general\"]\n",
    "                    for i, q in enumerate(questions)\n",
    "                ),\n",
    "            },\n",
    "        ],\n",
    "        response_format=RewrittenQuestions,\n",
    "        temperature=0.9,\n",
    "        top_p=0.9,\n",
    "    )\n",
    "\n",
    "    resp_model = resp.choices[0].message.parsed\n",
    "    assert resp_model is not None\n",
    "    assert len(resp_model.questions) == len(questions)\n",
    "\n",
    "    return resp_model"
   ]
  },
  {
   "cell_type": "code",
   "execution_count": 39,
   "metadata": {},
   "outputs": [],
   "source": [
    "class RewrittenQuestionData(QuestionData):\n",
    "    rewritten: str"
   ]
  },
  {
   "cell_type": "code",
   "execution_count": null,
   "metadata": {},
   "outputs": [
    {
     "data": {
      "application/vnd.jupyter.widget-view+json": {
       "model_id": "03a9788bb8f049e4a64ceb67af5bbd3e",
       "version_major": 2,
       "version_minor": 0
      },
      "text/plain": [
       "  0%|          | 0/5 [00:00<?, ?it/s]"
      ]
     },
     "metadata": {},
     "output_type": "display_data"
    }
   ],
   "source": [
    "rewritten_questions_resps = []\n",
    "rewritten_questions: list[RewrittenQuestionData] = []\n",
    "\n",
    "batch_size = 10\n",
    "for i in tqdm(range(0, len(questions), batch_size)):\n",
    "    batch = questions[i : i + batch_size]\n",
    "    resp = rewrite_batch(batch)\n",
    "    rewritten_questions_resps.append(resp)\n",
    "\n",
    "    for q, rewritten in zip(batch, resp.questions):\n",
    "        rewritten_questions.append(\n",
    "            cast(RewrittenQuestionData, q | {\"rewritten\": rewritten})\n",
    "        )"
   ]
  },
  {
   "cell_type": "code",
   "execution_count": 41,
   "metadata": {},
   "outputs": [],
   "source": [
    "unwrapped_task = graph.rewrite_flows_query.__wrapped__  # type: ignore\n",
    "\n",
    "\n",
    "async def generate_query(question: RewrittenQuestionData):\n",
    "    random.seed(42)\n",
    "    # question_str = random.choice(\n",
    "    #     [\n",
    "    #         question[\"question_replaced_basic\"],\n",
    "    #         question[\"question_replaced_general\"],\n",
    "    #         question[\"question_replaced_specific\"],\n",
    "    #     ]\n",
    "    # )\n",
    "    question_str = question[\"rewritten\"]\n",
    "    return await unwrapped_task(question_str)"
   ]
  },
  {
   "cell_type": "code",
   "execution_count": null,
   "metadata": {},
   "outputs": [
    {
     "data": {
      "application/vnd.jupyter.widget-view+json": {
       "model_id": "aa5809748d2f48e4b11a758d7eaf26cc",
       "version_major": 2,
       "version_minor": 0
      },
      "text/plain": [
       "  0%|          | 0/5 [00:00<?, ?it/s]"
      ]
     },
     "metadata": {},
     "output_type": "display_data"
    },
    {
     "name": "stdout",
     "output_type": "stream",
     "text": [
      "Failed to parse FlowQueries from completion {\"queries\": [{\"justification\": \"The user is asking for specific information about the amount of waste produced, which directly relates to a type of flow (waste flow) associated with a particular process.\", \"query\": \"What are the amounts of waste flows produced during the bleaching of pulp?\"}], \"join_type\": \"union\"}. Got: 1 validation error for FlowQueries\n",
      "queries.0.query\n",
      "  Value error, query must end with 'the process?' [type=value_error, input_value='What are the amounts of ... the bleaching of pulp?', input_type=str]\n",
      "    For further information visit https://errors.pydantic.dev/2.10/v/value_error\n",
      "For troubleshooting, visit: https://python.langchain.com/docs/troubleshooting/errors/OUTPUT_PARSING_FAILURE \n",
      "Failed to parse FlowQueries from completion {\"queries\": [{\"justification\": \"The user wants to know the total volume of resources used for a specific type of process (coal-based electricity generation). The query should focus on inputs as it is about resources used.\", \"query\": \"What are the total input volumes, in cubic meters, for coal-based electricity generation?\"}], \"join_type\": \"union\"}. Got: 1 validation error for FlowQueries\n",
      "queries.0.query\n",
      "  Value error, query must end with 'the process?' [type=value_error, input_value='What are the total input...electricity generation?', input_type=str]\n",
      "    For further information visit https://errors.pydantic.dev/2.10/v/value_error\n",
      "For troubleshooting, visit: https://python.langchain.com/docs/troubleshooting/errors/OUTPUT_PARSING_FAILURE \n",
      "Failed to parse FlowQueries from completion {\"queries\": [{\"justification\": \"The user wants to know about a specific flow (ammonia) related to an energy distribution process for space heating. The query should focus on output flows as it's asking 'how much is produced'.\", \"query\": \"What are the output values of ammonia in the energy distribution process for space heating?\"}], \"join_type\": \"union\"}. Got: 1 validation error for FlowQueries\n",
      "queries.0.query\n",
      "  Value error, query must end with 'the process?' [type=value_error, input_value='What are the output valu...cess for space heating?', input_type=str]\n",
      "    For further information visit https://errors.pydantic.dev/2.10/v/value_error\n",
      "For troubleshooting, visit: https://python.langchain.com/docs/troubleshooting/errors/OUTPUT_PARSING_FAILURE \n",
      "Failed to parse FlowQueries from completion {\"queries\": [{\"justification\": \"The user wants to know about the emission of a specific substance (nitrous oxide) from a particular type of process (natural gas processing). The query should focus on finding out the typical emissions without specifying an aggregation as 'typically' implies an average or common value.\", \"query\": \"What is the nitrous oxide emitted during natural gas processing in Denmark?\"}], \"join_type\": \"union\"}. Got: 1 validation error for FlowQueries\n",
      "queries.0.query\n",
      "  Value error, query must end with 'the process?' [type=value_error, input_value='What is the nitrous oxid... processing in Denmark?', input_type=str]\n",
      "    For further information visit https://errors.pydantic.dev/2.10/v/value_error\n",
      "For troubleshooting, visit: https://python.langchain.com/docs/troubleshooting/errors/OUTPUT_PARSING_FAILURE \n",
      "Failed to parse FlowQueries from completion {\"queries\": [{\"justification\": \"The user wants to know about a specific flow (sulfur hexafluoride) in the context of emissions, which can be categorized as an elementary flow.\", \"query\": \"What is the amount of sulfur hexafluoride emitted during the production of calcium oxide?\"}], \"join_type\": \"union\"}. Got: 1 validation error for FlowQueries\n",
      "queries.0.query\n",
      "  Value error, query must end with 'the process?' [type=value_error, input_value='What is the amount of su...ction of calcium oxide?', input_type=str]\n",
      "    For further information visit https://errors.pydantic.dev/2.10/v/value_error\n",
      "For troubleshooting, visit: https://python.langchain.com/docs/troubleshooting/errors/OUTPUT_PARSING_FAILURE \n",
      "Failed to parse FlowQueries from completion {\"queries\": [{\"justification\": \"The user is interested in identifying specific materials that are recycled within a certain process category, which in this case is 'gas supply and distribution'. The query aims to find out what materials get recycled.\", \"query\": \"What are the recycled materials of the gas supply and distribution processes?\"}], \"join_type\": \"union\"}. Got: 1 validation error for FlowQueries\n",
      "queries.0.query\n",
      "  Value error, query must end with 'the process?' [type=value_error, input_value='What are the recycled ma...distribution processes?', input_type=str]\n",
      "    For further information visit https://errors.pydantic.dev/2.10/v/value_error\n",
      "For troubleshooting, visit: https://python.langchain.com/docs/troubleshooting/errors/OUTPUT_PARSING_FAILURE \n",
      "Failed to parse FlowQueries from completion {\"queries\": [{\"justification\": \"The user is asking for specific types of emissions, which can be categorized as a class of flows (emissions) related to the process.\", \"query\": \"What are the elementary flows (emissions) released during the liquefaction of natural gas?\"}], \"join_type\": \"union\"}. Got: 1 validation error for FlowQueries\n",
      "queries.0.query\n",
      "  Value error, query must end with 'the process?' [type=value_error, input_value='What are the elementary ...faction of natural gas?', input_type=str]\n",
      "    For further information visit https://errors.pydantic.dev/2.10/v/value_error\n",
      "For troubleshooting, visit: https://python.langchain.com/docs/troubleshooting/errors/OUTPUT_PARSING_FAILURE \n",
      "Failed to parse FlowQueries from completion {\"queries\": [{\"justification\": \"The user is asking for a specific type of flow, which is water emissions. This query will help find the relevant flows related to water emissions.\", \"query\": \"What are the output water emissions resulting from heat production in energy supply?\"}], \"join_type\": \"union\"}. Got: 1 validation error for FlowQueries\n",
      "queries.0.query\n",
      "  Value error, query must end with 'the process?' [type=value_error, input_value='What are the output wate...ction in energy supply?', input_type=str]\n",
      "    For further information visit https://errors.pydantic.dev/2.10/v/value_error\n",
      "For troubleshooting, visit: https://python.langchain.com/docs/troubleshooting/errors/OUTPUT_PARSING_FAILURE \n",
      "Failed to parse FlowQueries from completion {\"queries\": [{\"justification\": \"The user is interested in knowing the types of emissions that result from a specific process, which is the generation of electricity using heavy oil.\", \"query\": \"What are the elementary flows (emissions) released when generating electricity from heavy oil?\"}], \"join_type\": \"union\"}. Got: 1 validation error for FlowQueries\n",
      "queries.0.query\n",
      "  Value error, query must end with 'the process?' [type=value_error, input_value='What are the elementary ...tricity from heavy oil?', input_type=str]\n",
      "    For further information visit https://errors.pydantic.dev/2.10/v/value_error\n",
      "For troubleshooting, visit: https://python.langchain.com/docs/troubleshooting/errors/OUTPUT_PARSING_FAILURE \n"
     ]
    }
   ],
   "source": [
    "generated: list[FlowQueries] = []\n",
    "\n",
    "batch_size = 10\n",
    "for i in tqdm(range(0, len(rewritten_questions), batch_size)):\n",
    "    batch = rewritten_questions[i : i + batch_size]\n",
    "    generated.extend(await asyncio.gather(*[generate_query(q) for q in batch]))"
   ]
  },
  {
   "cell_type": "code",
   "execution_count": 48,
   "metadata": {},
   "outputs": [
    {
     "data": {
      "text/plain": [
       "50"
      ]
     },
     "execution_count": 48,
     "metadata": {},
     "output_type": "execute_result"
    }
   ],
   "source": [
    "len(generated)"
   ]
  },
  {
   "cell_type": "code",
   "execution_count": 49,
   "metadata": {},
   "outputs": [],
   "source": [
    "out_path = config.data_dir / \"generated\" / \"tapas-eval-questions.jsonl\""
   ]
  },
  {
   "cell_type": "code",
   "execution_count": 53,
   "metadata": {},
   "outputs": [
    {
     "data": {
      "text/plain": [
       "55519"
      ]
     },
     "execution_count": 53,
     "metadata": {},
     "output_type": "execute_result"
    }
   ],
   "source": [
    "out_path.write_text(\n",
    "    \"\\n\".join(\n",
    "        json.dumps({\"question_data\": q, \"rewritten_flows_query\": g.queries[0].query})\n",
    "        for q, g in zip(rewritten_questions, generated)\n",
    "    )\n",
    ")"
   ]
  }
 ],
 "metadata": {
  "kernelspec": {
   "display_name": ".venv",
   "language": "python",
   "name": "python3"
  },
  "language_info": {
   "codemirror_mode": {
    "name": "ipython",
    "version": 3
   },
   "file_extension": ".py",
   "mimetype": "text/x-python",
   "name": "python",
   "nbconvert_exporter": "python",
   "pygments_lexer": "ipython3",
   "version": "3.12.8"
  }
 },
 "nbformat": 4,
 "nbformat_minor": 2
}
