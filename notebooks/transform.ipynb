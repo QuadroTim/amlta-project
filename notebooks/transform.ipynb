{
 "cells": [
  {
   "cell_type": "markdown",
   "metadata": {
    "colab_type": "text",
    "id": "view-in-github"
   },
   "source": [
    "<a href=\"https://colab.research.google.com/github/woranov/amlta-project/blob/main/notebooks/test.ipynb\" target=\"_parent\"><img src=\"https://colab.research.google.com/assets/colab-badge.svg\" alt=\"Open In Colab\"/></a>"
   ]
  },
  {
   "cell_type": "code",
   "execution_count": null,
   "metadata": {
    "colab": {
     "base_uri": "https://localhost:8080/"
    },
    "id": "-b62A7X5XT_7",
    "outputId": "4c770fc3-54e3-4653-fc8e-7f5faffe5338"
   },
   "outputs": [],
   "source": [
    "try:\n",
    "    import amlta  # noqa F401\n",
    "except ImportError:\n",
    "    %pip install --no-dependencies git+https://github.com/woranov/amlta-project.git"
   ]
  },
  {
   "cell_type": "code",
   "execution_count": null,
   "metadata": {
    "id": "sK7wK7S0a_2Z"
   },
   "outputs": [],
   "source": [
    "from pathlib import Path\n",
    "\n",
    "import yaml\n",
    "from tqdm.auto import tqdm\n",
    "\n",
    "try:\n",
    "    from google.colab import drive  # pyright: ignore[reportMissingImports]\n",
    "\n",
    "    IN_COLAB = True\n",
    "except ImportError:\n",
    "    IN_COLAB = False\n",
    "\n",
    "from amlta.config import config\n",
    "from amlta.probas import processes"
   ]
  },
  {
   "cell_type": "code",
   "execution_count": 3,
   "metadata": {
    "colab": {
     "base_uri": "https://localhost:8080/"
    },
    "id": "K5-vUY9TbGIE",
    "outputId": "9c7d8444-e13d-4ebc-f657-d601355fbabb"
   },
   "outputs": [],
   "source": [
    "if IN_COLAB:\n",
    "    mount_point = Path(\"/content/drive\")\n",
    "    drive_path = mount_point / \"MyDrive\"\n",
    "\n",
    "    # edit\n",
    "    data_dir = drive_path / \"uni\" / \"ws2425\" / \"amlta\" / \"project\" / \"data\"\n",
    "\n",
    "    config.update(data_dir=data_dir)\n",
    "\n",
    "    if not mount_point.exists():\n",
    "        drive.mount(str(mount_point))"
   ]
  },
  {
   "cell_type": "code",
   "execution_count": 4,
   "metadata": {
    "id": "V8U8uO3Y669I"
   },
   "outputs": [],
   "source": [
    "# by default lci result only\n",
    "process_uuids = processes.read_uuids()"
   ]
  },
  {
   "cell_type": "code",
   "execution_count": null,
   "metadata": {
    "colab": {
     "base_uri": "https://localhost:8080/"
    },
    "id": "Uij0lF817hwn",
    "outputId": "9b10636e-492b-4f78-dd14-6c831979806a"
   },
   "outputs": [],
   "source": [
    "useless_description = \"Kurzinfo: Datensatz aus GEMIS. Negative Werte durch Gutschriftenrechnung. \\n \\nGEMIS steht f\\u00fcr \\u201cGlobales Emissions-Modell Integrierter Systeme\\u201c; es ist ein Softwaretool des \\u00d6ko-Instituts. GEMIS wurde 1987 erstmals angewendet und wird seitdem weiterentwickelt. \\n \\nDie GEMIS-Datens\\u00e4tze beruhen - je nach Anwendung - auf unterschiedlichen Methoden; auch der zeitliche und der \\u00f6rtliche Bezug der Datens\\u00e4tze sind verschieden.\\n \\nMethode bei Prozessen mit mehreren Outputs:\\n \\nZur Modellierung der Datens\\u00e4tze zu Multi-Output Prozessen wird in GEMIS die Methode der Systemerweiterung verwendet. Hierbei werden Datens\\u00e4tze, in denen jeweils alle Inputs, alle Outputs und alle Umweltaspekte eines Multi-Output Prozesses ausgewiesen sind, als \\u201cBrutto\\u201c bezeichnet. Durch Subtraktion von \\u201aBonus\\u2019-Prozessen, die jeweils einen der Outputs auf herk\\u00f6mmliche Weise bereitstellen, entsteht ein Nettoprozess, in denen das substituierte Nebenprodukt als Gutschrift erscheint. Die Gutschrift ist dabei kein realer Output des Prozesses, sondern ein rechnerischer \\u201aMerker\\u2019. \\n \\nBeispiel: \\n \\nMulti-Output Prozess Biogas-BZ-MC-HKW-D-2020/brutto: Output ist 1 TJ Elektrizit\\u00e4t und 0,6 TJ W\\u00e4rme, der \\u201cNetto\\u201c-Datensatz soll sich aber nur auf die Elektrizit\\u00e4t beziehen. Durch Subtraktion des Bonusprozesses W\\u00e4rme-Bonus-Gas-Hzg-D-2020 mit dem Output W\\u00e4rme(0,6 TJ) entsteht der \\u201cNetto\\u201c-Datensatz Biogas-BZ-MC-HKW-D-2020/Gas, f\\u00fcr den als Output 1 TJ Elektrizit\\u00e4t und 0,6 TJ \\u201aGutschrift W\\u00e4rme-Bonus-f\\u00fcr-KWK (Bio)-2020 bei W\\u00e4rme-Bonus-Gas-Hzg-D-2020\\u2019 angegeben werden; die Gutschrift stellt keinen Stoff- oder Energiefluss des Prozesses dar, sie ist allein rechnerisch begr\\u00fcndet.\\n \\n\\n \\nTransport:\\n \\nAngaben zu den angesetzten Transportdistanzen werden nicht gegeben.\\n \\nAbschneidekriterien:\\n \\nWasser wird in der Regel nur auf der Inputseite angegeben (etwa als K\\u00fchlwasser), auch wenn es den Prozess wieder verl\\u00e4sst als Abwasser.\\n Weitere Angaben zu angewendeten Abschneidekriterien werden nicht gegeben.\\n \\nBesondere Nomenklatur:\\n \\nZahlreiche Abk\\u00fcrzungen f\\u00fcr Brennstoffe aus Biomasse und entsprechende Technologien.\\n \\nBesonderheiten auf Datensatzebene:\\n \\nDie Datens\\u00e4tze sind mit Vorketten-Datens\\u00e4tzen verkn\\u00fcpft, in denen die jeweils ben\\u00f6tigten Vorprodukte, Energien und Transportleistungen erzeugt werden. Die Daten zu den Umweltaspekten werden erstens \\u201cdirekt\\u201c (d.h., nur aus dem jeweiligen Prozess, falls dieser direkt zu Umweltaspekten beitr\\u00e4gt) als auch \\u201cmit Vorkette\\u201c (d.h., einschlie\\u00dflich aller vorausgehenden Prozesse) ausgewiesen. \\n Negative Werte f\\u00fcr Stofffl\\u00fcsse kommen in GEMIS regelm\\u00e4\\u00dfig vor; sie entstehen durch die Anwendung von Systemerweiterung um Multi-Output Prozesse in Single Output Prozesse umzurechnen. \\n Teilweise werden Aufwendungen f\\u00fcr Produktionsmittel (Anlagen, Fahrzeuge etc.) aufgef\\u00fchrt (als Stofffl\\u00fcsse im Input); diese sind jedoch nicht auf die funktionelle Einheit bezogen, sondern werden als absolute Werte angegeben; sie werden nur als Input und nicht als Output (Entsorgung der Betriebsmittel) angegeben. \\n Die durch die Herstellung dieser Produktionsmittel verursachten Umweltaspekte sind dagegen \\u00fcber Leistung, j\\u00e4hrliche Auslastung und Lebensdauer auf die funktionelle Einheit bezogen \\n \\nWeiterf\\u00fchrende Hinweise und Literatur:\\n \\n#1: Fritsche, U.R., Schmidt, K.: Globales Emissions-Modell Integrierter Systeme (GEMIS), Version 4.2, Handbuch, Darmstadt, August 2004.\\n #2: Fritsche, U.R., Schmidt, K.: Globales Emissions-Modell Integrierter Systeme (GEMIS), Version 4.1, Handbuch, Darmstadt, Darmstadt, Januar 2003.\\n #3: Fritsche, U., et al.: Stoffstromanalyse zur nachhaltigen energetischen Nutzung von Biomasse, Verbundprojekt gef\\u00f6rdert vom BMU im Rahmen des ZIP, Projekttr\\u00e4ger: FZ J\\u00fclich, Mai 2004, Anhangband zum Endbericht.\\n #4: Fritsche, U., et al.: Umweltanalyse von Energie-, Transport- und Stoffsystemen: Gesamt-Emissions-Modell integrierter Systeme (GEMIS) Version 2.1 - erweiterter und aktualisierter Endbericht, U. Fritsche u.a., i.A. des Hessischen Ministeriums f\\u00fcr Umwelt, Energie und Bundesangelegenheiten (HMUEB), ver\\u00f6ffentlicht durch HMUEB, Wiesbaden 1995\\n \\n\\n\\n\"\n",
    "\n",
    "\n",
    "def process_to_yaml(process: processes.ProcessData):\n",
    "    name = process.processInformation.dataSetInformation.name.baseName.get() or \"\"\n",
    "    synonyms = process.processInformation.dataSetInformation.synonyms\n",
    "    if synonyms:\n",
    "        name += f\" ({synonyms.get()})\"\n",
    "\n",
    "    year = process.processInformation.time.referenceYear\n",
    "    geography = process.processInformation.geography.locationOfOperationSupplyOrProduction.location\n",
    "\n",
    "    classes = []\n",
    "    if process.processInformation.dataSetInformation.classificationInformation.classification:\n",
    "        for classification in process.processInformation.dataSetInformation.classificationInformation.classification:\n",
    "            classes.append(\" / \".join(class_.value for class_ in classification.class_))\n",
    "\n",
    "    # uuid = process.processInformation.dataSetInformation.UUID\n",
    "\n",
    "    description = process.processInformation.dataSetInformation.generalComment.get()\n",
    "    if description == useless_description:\n",
    "        description = \"\"\n",
    "\n",
    "    return yaml.dump(\n",
    "        {\n",
    "            \"name\": name,\n",
    "            \"year\": year,\n",
    "            \"description\": description,\n",
    "            \"geography\": geography,\n",
    "            \"classes\": classes,\n",
    "        },\n",
    "        indent=2,\n",
    "        sort_keys=False,\n",
    "        width=1000,\n",
    "    )\n",
    "\n",
    "\n",
    "def save_yamls(uuids: list[str]):\n",
    "    directory = config.ilcd_dir / \"processes_yaml\"\n",
    "    directory.mkdir(exist_ok=True)\n",
    "\n",
    "    process_iter = processes.ProcessData.from_uuids(uuids)\n",
    "    for process in tqdm(process_iter, total=len(uuids)):\n",
    "        yaml_str = process_to_yaml(process)\n",
    "        file = directory / f\"{process.processInformation.dataSetInformation.UUID}.yaml\"\n",
    "        if file.exists():\n",
    "            continue\n",
    "        with open(file, \"w\") as f:\n",
    "            f.write(yaml_str)"
   ]
  },
  {
   "cell_type": "code",
   "execution_count": 42,
   "metadata": {},
   "outputs": [
    {
     "data": {
      "application/vnd.jupyter.widget-view+json": {
       "model_id": "b491821fd466490583943db4d6e12357",
       "version_major": 2,
       "version_minor": 0
      },
      "text/plain": [
       "  0%|          | 0/11762 [00:00<?, ?it/s]"
      ]
     },
     "metadata": {},
     "output_type": "display_data"
    }
   ],
   "source": [
    "save_yamls(process_uuids)"
   ]
  }
 ],
 "metadata": {
  "colab": {
   "include_colab_link": true,
   "provenance": []
  },
  "kernelspec": {
   "display_name": ".venv",
   "language": "python",
   "name": "python3"
  },
  "language_info": {
   "codemirror_mode": {
    "name": "ipython",
    "version": 3
   },
   "file_extension": ".py",
   "mimetype": "text/x-python",
   "name": "python",
   "nbconvert_exporter": "python",
   "pygments_lexer": "ipython3",
   "version": "3.11.11"
  }
 },
 "nbformat": 4,
 "nbformat_minor": 0
}
