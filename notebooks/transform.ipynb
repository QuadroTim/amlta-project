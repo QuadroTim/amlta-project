{
 "cells": [
  {
   "cell_type": "markdown",
   "metadata": {
    "colab_type": "text",
    "id": "view-in-github"
   },
   "source": [
    "<a href=\"https://colab.research.google.com/github/woranov/amlta-project/blob/main/notebooks/test.ipynb\" target=\"_parent\"><img src=\"https://colab.research.google.com/assets/colab-badge.svg\" alt=\"Open In Colab\"/></a>"
   ]
  },
  {
   "cell_type": "code",
   "execution_count": 1,
   "metadata": {
    "colab": {
     "base_uri": "https://localhost:8080/"
    },
    "id": "-b62A7X5XT_7",
    "outputId": "4c770fc3-54e3-4653-fc8e-7f5faffe5338"
   },
   "outputs": [],
   "source": [
    "try:\n",
    "    import amlta  # noqa F401\n",
    "except ImportError:\n",
    "    %pip install --no-dependencies git+https://github.com/woranov/amlta-project.git"
   ]
  },
  {
   "cell_type": "code",
   "execution_count": 2,
   "metadata": {
    "id": "sK7wK7S0a_2Z"
   },
   "outputs": [],
   "source": [
    "from pathlib import Path\n",
    "\n",
    "from tqdm.auto import tqdm\n",
    "\n",
    "try:\n",
    "    from google.colab import drive  # pyright: ignore[reportMissingImports]\n",
    "\n",
    "    IN_COLAB = True\n",
    "except ImportError:\n",
    "    IN_COLAB = False\n",
    "\n",
    "from amlta.config import config\n",
    "from amlta.formatting.data import create_process_section\n",
    "from amlta.formatting.yaml import format_as_yaml\n",
    "from amlta.probas import processes"
   ]
  },
  {
   "cell_type": "code",
   "execution_count": 3,
   "metadata": {
    "colab": {
     "base_uri": "https://localhost:8080/"
    },
    "id": "K5-vUY9TbGIE",
    "outputId": "9c7d8444-e13d-4ebc-f657-d601355fbabb"
   },
   "outputs": [],
   "source": [
    "if IN_COLAB:\n",
    "    mount_point = Path(\"/content/drive\")\n",
    "    drive_path = mount_point / \"MyDrive\"\n",
    "\n",
    "    # edit\n",
    "    data_dir = drive_path / \"uni\" / \"ws2425\" / \"amlta\" / \"project\" / \"data\"\n",
    "\n",
    "    config.update(data_dir=data_dir)\n",
    "\n",
    "    if not mount_point.exists():\n",
    "        drive.mount(str(mount_point))"
   ]
  },
  {
   "cell_type": "code",
   "execution_count": 4,
   "metadata": {
    "id": "V8U8uO3Y669I"
   },
   "outputs": [],
   "source": [
    "# by default lci result only\n",
    "process_uuids = processes.read_uuids()"
   ]
  },
  {
   "cell_type": "code",
   "execution_count": 5,
   "metadata": {
    "colab": {
     "base_uri": "https://localhost:8080/"
    },
    "id": "Uij0lF817hwn",
    "outputId": "9b10636e-492b-4f78-dd14-6c831979806a"
   },
   "outputs": [],
   "source": [
    "def process_to_yaml(process: processes.ProcessData):\n",
    "    return format_as_yaml(create_process_section(process, include_flows=False))\n",
    "\n",
    "\n",
    "def save_yamls(uuids: list[str]):\n",
    "    directory = config.ilcd_dir / \"processes_yaml_2\"\n",
    "    directory.mkdir(exist_ok=True)\n",
    "\n",
    "    process_iter = processes.ProcessData.from_uuids(uuids)\n",
    "    for process in tqdm(process_iter, total=len(uuids)):\n",
    "        yaml_str = process_to_yaml(process)\n",
    "        file = directory / f\"{process.processInformation.dataSetInformation.UUID}.yaml\"\n",
    "        if file.exists():\n",
    "            continue\n",
    "        with open(file, \"w\", encoding=\"utf-8\") as f:\n",
    "            f.write(yaml_str)"
   ]
  },
  {
   "cell_type": "code",
   "execution_count": 6,
   "metadata": {},
   "outputs": [
    {
     "data": {
      "application/vnd.jupyter.widget-view+json": {
       "model_id": "b9b2cfb6a1b4402097d2dd62accabf3e",
       "version_major": 2,
       "version_minor": 0
      },
      "text/plain": [
       "  0%|          | 0/11762 [00:00<?, ?it/s]"
      ]
     },
     "metadata": {},
     "output_type": "display_data"
    }
   ],
   "source": [
    "save_yamls(process_uuids)"
   ]
  }
 ],
 "metadata": {
  "colab": {
   "include_colab_link": true,
   "provenance": []
  },
  "kernelspec": {
   "display_name": ".venv",
   "language": "python",
   "name": "python3"
  },
  "language_info": {
   "codemirror_mode": {
    "name": "ipython",
    "version": 3
   },
   "file_extension": ".py",
   "mimetype": "text/x-python",
   "name": "python",
   "nbconvert_exporter": "python",
   "pygments_lexer": "ipython3",
   "version": "3.11.11"
  }
 },
 "nbformat": 4,
 "nbformat_minor": 0
}
